{
 "cells": [
  {
   "cell_type": "markdown",
   "metadata": {},
   "source": [
    "### Project Objective"
   ]
  },
  {
   "cell_type": "markdown",
   "metadata": {},
   "source": [
    "Build a simple regression model to predict the annual salary for each customer using the attributes you identified above\n",
    "\n",
    "How accurate is your model? Should ANZ use it to segment customers (for whom it does not have this data) into income brackets for reporting purposes?\n",
    "\n",
    "For a challenge: build a decision-tree based model to predict salary. Does it perform better? How would you accurately test the performance of this model?"
   ]
  },
  {
   "cell_type": "markdown",
   "metadata": {},
   "source": [
    "### Import Libraries"
   ]
  },
  {
   "cell_type": "code",
   "execution_count": 1,
   "metadata": {},
   "outputs": [],
   "source": [
    "import numpy as np\n",
    "import pandas as pd\n",
    "import matplotlib.pyplot as plt\n",
    "import seaborn as sns\n",
    "import sklearn\n",
    "import shap\n",
    "\n",
    "import xgboost as xgb\n",
    "from xgboost import XGBClassifier, XGBRegressor\n",
    "from xgboost import to_graphviz, plot_importance\n",
    "\n",
    "%matplotlib inline\n",
    "sns.set_style('dark')\n",
    "sns.set(font_scale=1.2)\n",
    "\n",
    "from sklearn.linear_model import LinearRegression\n",
    "\n",
    "from sklearn.inspection import permutation_importance\n",
    "from sklearn.model_selection import cross_val_score, train_test_split, GridSearchCV, RandomizedSearchCV\n",
    "from sklearn.preprocessing import LabelEncoder, StandardScaler, MinMaxScaler, OneHotEncoder\n",
    "from sklearn.pipeline import Pipeline\n",
    "from sklearn.metrics import confusion_matrix, classification_report, mean_absolute_error, mean_squared_error,r2_score\n",
    "from sklearn.metrics import plot_confusion_matrix, plot_precision_recall_curve, plot_roc_curve, accuracy_score\n",
    "from sklearn.metrics import auc, f1_score, precision_score, recall_score, roc_auc_score\n",
    "\n",
    "import warnings\n",
    "warnings.filterwarnings('ignore')\n",
    "\n",
    "import pickle\n",
    "from pickle import dump, load\n",
    "\n",
    "np.random.seed(0)\n",
    "\n",
    "#from pycaret.classification import *\n",
    "#from pycaret.clustering import *\n",
    "from pycaret.regression import *\n",
    "\n",
    "pd.set_option('display.max_columns',100)\n",
    "#pd.set_option('display.max_rows',100)\n",
    "pd.set_option('display.width', 1000)\n",
    "np.set_printoptions(suppress=True)"
   ]
  },
  {
   "cell_type": "markdown",
   "metadata": {},
   "source": [
    "### Data Exploration and Analysis"
   ]
  },
  {
   "cell_type": "code",
   "execution_count": 2,
   "metadata": {},
   "outputs": [],
   "source": [
    "df = pd.read_csv(\"salary3.csv\")"
   ]
  },
  {
   "cell_type": "code",
   "execution_count": 3,
   "metadata": {},
   "outputs": [
    {
     "data": {
      "text/html": [
       "<div>\n",
       "<style scoped>\n",
       "    .dataframe tbody tr th:only-of-type {\n",
       "        vertical-align: middle;\n",
       "    }\n",
       "\n",
       "    .dataframe tbody tr th {\n",
       "        vertical-align: top;\n",
       "    }\n",
       "\n",
       "    .dataframe thead th {\n",
       "        text-align: right;\n",
       "    }\n",
       "</style>\n",
       "<table border=\"1\" class=\"dataframe\">\n",
       "  <thead>\n",
       "    <tr style=\"text-align: right;\">\n",
       "      <th></th>\n",
       "      <th>account</th>\n",
       "      <th>first_name</th>\n",
       "      <th>age</th>\n",
       "      <th>gender</th>\n",
       "      <th>balance</th>\n",
       "      <th>months</th>\n",
       "      <th>weekspayment</th>\n",
       "      <th>annual</th>\n",
       "    </tr>\n",
       "  </thead>\n",
       "  <tbody>\n",
       "    <tr>\n",
       "      <th>0</th>\n",
       "      <td>ACC-1037050564</td>\n",
       "      <td>Rhonda</td>\n",
       "      <td>40</td>\n",
       "      <td>F</td>\n",
       "      <td>51472.20</td>\n",
       "      <td>12</td>\n",
       "      <td>52</td>\n",
       "      <td>46388.68</td>\n",
       "    </tr>\n",
       "    <tr>\n",
       "      <th>1</th>\n",
       "      <td>ACC-1056639002</td>\n",
       "      <td>Michael</td>\n",
       "      <td>22</td>\n",
       "      <td>M</td>\n",
       "      <td>298308.49</td>\n",
       "      <td>12</td>\n",
       "      <td>24</td>\n",
       "      <td>166140.52</td>\n",
       "    </tr>\n",
       "    <tr>\n",
       "      <th>2</th>\n",
       "      <td>ACC-1199531521</td>\n",
       "      <td>Billy</td>\n",
       "      <td>52</td>\n",
       "      <td>M</td>\n",
       "      <td>86898.05</td>\n",
       "      <td>12</td>\n",
       "      <td>28</td>\n",
       "      <td>196860.56</td>\n",
       "    </tr>\n",
       "    <tr>\n",
       "      <th>3</th>\n",
       "      <td>ACC-1217063613</td>\n",
       "      <td>Kimberly</td>\n",
       "      <td>27</td>\n",
       "      <td>F</td>\n",
       "      <td>13769.63</td>\n",
       "      <td>8</td>\n",
       "      <td>8</td>\n",
       "      <td>252908.24</td>\n",
       "    </tr>\n",
       "    <tr>\n",
       "      <th>4</th>\n",
       "      <td>ACC-1222300524</td>\n",
       "      <td>Michael</td>\n",
       "      <td>38</td>\n",
       "      <td>M</td>\n",
       "      <td>22826.60</td>\n",
       "      <td>12</td>\n",
       "      <td>52</td>\n",
       "      <td>52110.76</td>\n",
       "    </tr>\n",
       "    <tr>\n",
       "      <th>...</th>\n",
       "      <td>...</td>\n",
       "      <td>...</td>\n",
       "      <td>...</td>\n",
       "      <td>...</td>\n",
       "      <td>...</td>\n",
       "      <td>...</td>\n",
       "      <td>...</td>\n",
       "      <td>...</td>\n",
       "    </tr>\n",
       "    <tr>\n",
       "      <th>95</th>\n",
       "      <td>ACC-854938045</td>\n",
       "      <td>James</td>\n",
       "      <td>28</td>\n",
       "      <td>M</td>\n",
       "      <td>88169.32</td>\n",
       "      <td>12</td>\n",
       "      <td>28</td>\n",
       "      <td>132011.36</td>\n",
       "    </tr>\n",
       "    <tr>\n",
       "      <th>96</th>\n",
       "      <td>ACC-90814749</td>\n",
       "      <td>Christopher</td>\n",
       "      <td>35</td>\n",
       "      <td>M</td>\n",
       "      <td>65301.33</td>\n",
       "      <td>12</td>\n",
       "      <td>24</td>\n",
       "      <td>120050.84</td>\n",
       "    </tr>\n",
       "    <tr>\n",
       "      <th>97</th>\n",
       "      <td>ACC-958000567</td>\n",
       "      <td>Sandra</td>\n",
       "      <td>34</td>\n",
       "      <td>F</td>\n",
       "      <td>59807.25</td>\n",
       "      <td>12</td>\n",
       "      <td>28</td>\n",
       "      <td>182915.72</td>\n",
       "    </tr>\n",
       "    <tr>\n",
       "      <th>98</th>\n",
       "      <td>ACC-964839203</td>\n",
       "      <td>Michael</td>\n",
       "      <td>21</td>\n",
       "      <td>M</td>\n",
       "      <td>467645.22</td>\n",
       "      <td>12</td>\n",
       "      <td>52</td>\n",
       "      <td>81130.40</td>\n",
       "    </tr>\n",
       "    <tr>\n",
       "      <th>99</th>\n",
       "      <td>ACC-966140392</td>\n",
       "      <td>Joseph</td>\n",
       "      <td>21</td>\n",
       "      <td>M</td>\n",
       "      <td>49877.75</td>\n",
       "      <td>12</td>\n",
       "      <td>28</td>\n",
       "      <td>133791.32</td>\n",
       "    </tr>\n",
       "  </tbody>\n",
       "</table>\n",
       "<p>100 rows × 8 columns</p>\n",
       "</div>"
      ],
      "text/plain": [
       "           account   first_name  age gender    balance  months  weekspayment     annual\n",
       "0   ACC-1037050564       Rhonda   40      F   51472.20      12            52   46388.68\n",
       "1   ACC-1056639002      Michael   22      M  298308.49      12            24  166140.52\n",
       "2   ACC-1199531521        Billy   52      M   86898.05      12            28  196860.56\n",
       "3   ACC-1217063613     Kimberly   27      F   13769.63       8             8  252908.24\n",
       "4   ACC-1222300524      Michael   38      M   22826.60      12            52   52110.76\n",
       "..             ...          ...  ...    ...        ...     ...           ...        ...\n",
       "95   ACC-854938045        James   28      M   88169.32      12            28  132011.36\n",
       "96    ACC-90814749  Christopher   35      M   65301.33      12            24  120050.84\n",
       "97   ACC-958000567       Sandra   34      F   59807.25      12            28  182915.72\n",
       "98   ACC-964839203      Michael   21      M  467645.22      12            52   81130.40\n",
       "99   ACC-966140392       Joseph   21      M   49877.75      12            28  133791.32\n",
       "\n",
       "[100 rows x 8 columns]"
      ]
     },
     "execution_count": 3,
     "metadata": {},
     "output_type": "execute_result"
    }
   ],
   "source": [
    "df"
   ]
  },
  {
   "cell_type": "code",
   "execution_count": 4,
   "metadata": {},
   "outputs": [
    {
     "name": "stdout",
     "output_type": "stream",
     "text": [
      "<class 'pandas.core.frame.DataFrame'>\n",
      "RangeIndex: 100 entries, 0 to 99\n",
      "Data columns (total 8 columns):\n",
      " #   Column        Non-Null Count  Dtype  \n",
      "---  ------        --------------  -----  \n",
      " 0   account       100 non-null    object \n",
      " 1   first_name    100 non-null    object \n",
      " 2   age           100 non-null    int64  \n",
      " 3   gender        100 non-null    object \n",
      " 4   balance       100 non-null    float64\n",
      " 5   months        100 non-null    int64  \n",
      " 6   weekspayment  100 non-null    int64  \n",
      " 7   annual        100 non-null    float64\n",
      "dtypes: float64(2), int64(3), object(3)\n",
      "memory usage: 6.4+ KB\n"
     ]
    }
   ],
   "source": [
    "df.info()"
   ]
  },
  {
   "cell_type": "code",
   "execution_count": 5,
   "metadata": {},
   "outputs": [
    {
     "data": {
      "text/html": [
       "<div>\n",
       "<style scoped>\n",
       "    .dataframe tbody tr th:only-of-type {\n",
       "        vertical-align: middle;\n",
       "    }\n",
       "\n",
       "    .dataframe tbody tr th {\n",
       "        vertical-align: top;\n",
       "    }\n",
       "\n",
       "    .dataframe thead th {\n",
       "        text-align: right;\n",
       "    }\n",
       "</style>\n",
       "<table border=\"1\" class=\"dataframe\">\n",
       "  <thead>\n",
       "    <tr style=\"text-align: right;\">\n",
       "      <th></th>\n",
       "      <th>account</th>\n",
       "      <th>first_name</th>\n",
       "      <th>age</th>\n",
       "      <th>gender</th>\n",
       "      <th>balance</th>\n",
       "      <th>months</th>\n",
       "      <th>weekspayment</th>\n",
       "      <th>annual</th>\n",
       "    </tr>\n",
       "  </thead>\n",
       "  <tbody>\n",
       "    <tr>\n",
       "      <th>count</th>\n",
       "      <td>100</td>\n",
       "      <td>100</td>\n",
       "      <td>100.000000</td>\n",
       "      <td>100</td>\n",
       "      <td>1.000000e+02</td>\n",
       "      <td>100.000000</td>\n",
       "      <td>100.000000</td>\n",
       "      <td>100.000000</td>\n",
       "    </tr>\n",
       "    <tr>\n",
       "      <th>unique</th>\n",
       "      <td>100</td>\n",
       "      <td>80</td>\n",
       "      <td>NaN</td>\n",
       "      <td>2</td>\n",
       "      <td>NaN</td>\n",
       "      <td>NaN</td>\n",
       "      <td>NaN</td>\n",
       "      <td>NaN</td>\n",
       "    </tr>\n",
       "    <tr>\n",
       "      <th>top</th>\n",
       "      <td>ACC-3541460373</td>\n",
       "      <td>Michael</td>\n",
       "      <td>NaN</td>\n",
       "      <td>M</td>\n",
       "      <td>NaN</td>\n",
       "      <td>NaN</td>\n",
       "      <td>NaN</td>\n",
       "      <td>NaN</td>\n",
       "    </tr>\n",
       "    <tr>\n",
       "      <th>freq</th>\n",
       "      <td>1</td>\n",
       "      <td>6</td>\n",
       "      <td>NaN</td>\n",
       "      <td>56</td>\n",
       "      <td>NaN</td>\n",
       "      <td>NaN</td>\n",
       "      <td>NaN</td>\n",
       "      <td>NaN</td>\n",
       "    </tr>\n",
       "    <tr>\n",
       "      <th>mean</th>\n",
       "      <td>NaN</td>\n",
       "      <td>NaN</td>\n",
       "      <td>31.770000</td>\n",
       "      <td>NaN</td>\n",
       "      <td>1.434244e+05</td>\n",
       "      <td>11.840000</td>\n",
       "      <td>35.320000</td>\n",
       "      <td>119458.242800</td>\n",
       "    </tr>\n",
       "    <tr>\n",
       "      <th>std</th>\n",
       "      <td>NaN</td>\n",
       "      <td>NaN</td>\n",
       "      <td>11.544254</td>\n",
       "      <td>NaN</td>\n",
       "      <td>2.350789e+05</td>\n",
       "      <td>0.787786</td>\n",
       "      <td>14.606543</td>\n",
       "      <td>72684.766459</td>\n",
       "    </tr>\n",
       "    <tr>\n",
       "      <th>min</th>\n",
       "      <td>NaN</td>\n",
       "      <td>NaN</td>\n",
       "      <td>18.000000</td>\n",
       "      <td>NaN</td>\n",
       "      <td>1.376963e+04</td>\n",
       "      <td>8.000000</td>\n",
       "      <td>8.000000</td>\n",
       "      <td>29952.000000</td>\n",
       "    </tr>\n",
       "    <tr>\n",
       "      <th>25%</th>\n",
       "      <td>NaN</td>\n",
       "      <td>NaN</td>\n",
       "      <td>22.000000</td>\n",
       "      <td>NaN</td>\n",
       "      <td>4.965724e+04</td>\n",
       "      <td>12.000000</td>\n",
       "      <td>24.000000</td>\n",
       "      <td>59972.120000</td>\n",
       "    </tr>\n",
       "    <tr>\n",
       "      <th>50%</th>\n",
       "      <td>NaN</td>\n",
       "      <td>NaN</td>\n",
       "      <td>29.500000</td>\n",
       "      <td>NaN</td>\n",
       "      <td>7.227742e+04</td>\n",
       "      <td>12.000000</td>\n",
       "      <td>28.000000</td>\n",
       "      <td>101370.360000</td>\n",
       "    </tr>\n",
       "    <tr>\n",
       "      <th>75%</th>\n",
       "      <td>NaN</td>\n",
       "      <td>NaN</td>\n",
       "      <td>39.250000</td>\n",
       "      <td>NaN</td>\n",
       "      <td>1.150409e+05</td>\n",
       "      <td>12.000000</td>\n",
       "      <td>52.000000</td>\n",
       "      <td>150109.700000</td>\n",
       "    </tr>\n",
       "    <tr>\n",
       "      <th>max</th>\n",
       "      <td>NaN</td>\n",
       "      <td>NaN</td>\n",
       "      <td>78.000000</td>\n",
       "      <td>NaN</td>\n",
       "      <td>1.584768e+06</td>\n",
       "      <td>12.000000</td>\n",
       "      <td>56.000000</td>\n",
       "      <td>459470.960000</td>\n",
       "    </tr>\n",
       "  </tbody>\n",
       "</table>\n",
       "</div>"
      ],
      "text/plain": [
       "               account first_name         age gender       balance      months  weekspayment         annual\n",
       "count              100        100  100.000000    100  1.000000e+02  100.000000    100.000000     100.000000\n",
       "unique             100         80         NaN      2           NaN         NaN           NaN            NaN\n",
       "top     ACC-3541460373    Michael         NaN      M           NaN         NaN           NaN            NaN\n",
       "freq                 1          6         NaN     56           NaN         NaN           NaN            NaN\n",
       "mean               NaN        NaN   31.770000    NaN  1.434244e+05   11.840000     35.320000  119458.242800\n",
       "std                NaN        NaN   11.544254    NaN  2.350789e+05    0.787786     14.606543   72684.766459\n",
       "min                NaN        NaN   18.000000    NaN  1.376963e+04    8.000000      8.000000   29952.000000\n",
       "25%                NaN        NaN   22.000000    NaN  4.965724e+04   12.000000     24.000000   59972.120000\n",
       "50%                NaN        NaN   29.500000    NaN  7.227742e+04   12.000000     28.000000  101370.360000\n",
       "75%                NaN        NaN   39.250000    NaN  1.150409e+05   12.000000     52.000000  150109.700000\n",
       "max                NaN        NaN   78.000000    NaN  1.584768e+06   12.000000     56.000000  459470.960000"
      ]
     },
     "execution_count": 5,
     "metadata": {},
     "output_type": "execute_result"
    }
   ],
   "source": [
    "df.describe(include='all')"
   ]
  },
  {
   "cell_type": "code",
   "execution_count": 6,
   "metadata": {},
   "outputs": [
    {
     "data": {
      "text/plain": [
       "(100, 8)"
      ]
     },
     "execution_count": 6,
     "metadata": {},
     "output_type": "execute_result"
    }
   ],
   "source": [
    "df.shape"
   ]
  },
  {
   "cell_type": "code",
   "execution_count": 7,
   "metadata": {},
   "outputs": [
    {
     "data": {
      "text/plain": [
       "Index(['account', 'first_name', 'age', 'gender', 'balance', 'months', 'weekspayment', 'annual'], dtype='object')"
      ]
     },
     "execution_count": 7,
     "metadata": {},
     "output_type": "execute_result"
    }
   ],
   "source": [
    "df.columns"
   ]
  },
  {
   "cell_type": "markdown",
   "metadata": {},
   "source": [
    "### Data Visualization"
   ]
  },
  {
   "cell_type": "markdown",
   "metadata": {},
   "source": [
    "### Univariate Data Exploration"
   ]
  },
  {
   "cell_type": "code",
   "execution_count": 8,
   "metadata": {},
   "outputs": [
    {
     "data": {
      "image/png": "[encoded data removed]",
      "text/plain": [
       "<Figure size 1440x1080 with 6 Axes>"
      ]
     },
     "metadata": {},
     "output_type": "display_data"
    }
   ],
   "source": [
    "df.hist(bins=50, figsize=(20,15))\n",
    "plt.suptitle('Feature Distribution', x=0.5, y=1.02, ha='center', fontsize='large')\n",
    "plt.tight_layout()\n",
    "plt.show()"
   ]
  },
  {
   "cell_type": "code",
   "execution_count": 9,
   "metadata": {},
   "outputs": [
    {
     "data": {
      "image/png": "[encoded data removed]",
      "text/plain": [
       "<Figure size 1440x720 with 1 Axes>"
      ]
     },
     "metadata": {},
     "output_type": "display_data"
    }
   ],
   "source": [
    "df.boxplot(figsize=(20,10))\n",
    "plt.suptitle('BoxPlot', x=0.5, y=1.02, ha='center', fontsize='large')\n",
    "plt.tight_layout()\n",
    "plt.show()"
   ]
  },
  {
   "cell_type": "markdown",
   "metadata": {},
   "source": [
    "### Correlation"
   ]
  },
  {
   "cell_type": "code",
   "execution_count": 10,
   "metadata": {},
   "outputs": [
    {
     "data": {
      "text/html": [
       "<div>\n",
       "<style scoped>\n",
       "    .dataframe tbody tr th:only-of-type {\n",
       "        vertical-align: middle;\n",
       "    }\n",
       "\n",
       "    .dataframe tbody tr th {\n",
       "        vertical-align: top;\n",
       "    }\n",
       "\n",
       "    .dataframe thead th {\n",
       "        text-align: right;\n",
       "    }\n",
       "</style>\n",
       "<table border=\"1\" class=\"dataframe\">\n",
       "  <thead>\n",
       "    <tr style=\"text-align: right;\">\n",
       "      <th></th>\n",
       "      <th>age</th>\n",
       "      <th>balance</th>\n",
       "      <th>months</th>\n",
       "      <th>weekspayment</th>\n",
       "      <th>annual</th>\n",
       "    </tr>\n",
       "  </thead>\n",
       "  <tbody>\n",
       "    <tr>\n",
       "      <th>age</th>\n",
       "      <td>1.000000</td>\n",
       "      <td>0.289224</td>\n",
       "      <td>0.093653</td>\n",
       "      <td>0.182368</td>\n",
       "      <td>-0.135264</td>\n",
       "    </tr>\n",
       "    <tr>\n",
       "      <th>balance</th>\n",
       "      <td>0.289224</td>\n",
       "      <td>1.000000</td>\n",
       "      <td>0.107047</td>\n",
       "      <td>-0.013461</td>\n",
       "      <td>0.101847</td>\n",
       "    </tr>\n",
       "    <tr>\n",
       "      <th>months</th>\n",
       "      <td>0.093653</td>\n",
       "      <td>0.107047</td>\n",
       "      <td>1.000000</td>\n",
       "      <td>0.383716</td>\n",
       "      <td>-0.466623</td>\n",
       "    </tr>\n",
       "    <tr>\n",
       "      <th>weekspayment</th>\n",
       "      <td>0.182368</td>\n",
       "      <td>-0.013461</td>\n",
       "      <td>0.383716</td>\n",
       "      <td>1.000000</td>\n",
       "      <td>-0.696428</td>\n",
       "    </tr>\n",
       "    <tr>\n",
       "      <th>annual</th>\n",
       "      <td>-0.135264</td>\n",
       "      <td>0.101847</td>\n",
       "      <td>-0.466623</td>\n",
       "      <td>-0.696428</td>\n",
       "      <td>1.000000</td>\n",
       "    </tr>\n",
       "  </tbody>\n",
       "</table>\n",
       "</div>"
      ],
      "text/plain": [
       "                   age   balance    months  weekspayment    annual\n",
       "age           1.000000  0.289224  0.093653      0.182368 -0.135264\n",
       "balance       0.289224  1.000000  0.107047     -0.013461  0.101847\n",
       "months        0.093653  0.107047  1.000000      0.383716 -0.466623\n",
       "weekspayment  0.182368 -0.013461  0.383716      1.000000 -0.696428\n",
       "annual       -0.135264  0.101847 -0.466623     -0.696428  1.000000"
      ]
     },
     "execution_count": 10,
     "metadata": {},
     "output_type": "execute_result"
    }
   ],
   "source": [
    "df.corr()"
   ]
  },
  {
   "cell_type": "code",
   "execution_count": 11,
   "metadata": {},
   "outputs": [
    {
     "data": {
      "image/png": "[encoded data removed]",
      "text/plain": [
       "<Figure size 1152x648 with 2 Axes>"
      ]
     },
     "metadata": {},
     "output_type": "display_data"
    }
   ],
   "source": [
    "plt.figure(figsize=(16,9))\n",
    "sns.heatmap(df.corr(),cmap=\"coolwarm\",annot=True,fmt='.2f',linewidths=2)\n",
    "plt.show()"
   ]
  },
  {
   "cell_type": "markdown",
   "metadata": {},
   "source": [
    "### Pairplots"
   ]
  },
  {
   "cell_type": "code",
   "execution_count": 12,
   "metadata": {},
   "outputs": [
    {
     "data": {
      "image/png": "[encoded data removed]",
      "text/plain": [
       "<Figure size 900x900 with 30 Axes>"
      ]
     },
     "metadata": {},
     "output_type": "display_data"
    }
   ],
   "source": [
    "sns.pairplot(df)\n",
    "plt.suptitle('Pairplots of features', x=0.5, y=1.02, ha='center', fontsize='large')\n",
    "plt.show()"
   ]
  },
  {
   "cell_type": "markdown",
   "metadata": {},
   "source": [
    "### Data Preprocessing"
   ]
  },
  {
   "cell_type": "markdown",
   "metadata": {},
   "source": [
    "### Treat Missing Values"
   ]
  },
  {
   "cell_type": "code",
   "execution_count": 13,
   "metadata": {},
   "outputs": [
    {
     "data": {
      "text/plain": [
       "account         0\n",
       "first_name      0\n",
       "age             0\n",
       "gender          0\n",
       "balance         0\n",
       "months          0\n",
       "weekspayment    0\n",
       "annual          0\n",
       "dtype: int64"
      ]
     },
     "execution_count": 13,
     "metadata": {},
     "output_type": "execute_result"
    }
   ],
   "source": [
    "df.isnull().sum()"
   ]
  },
  {
   "cell_type": "markdown",
   "metadata": {},
   "source": [
    "### Treat Duplicate Values"
   ]
  },
  {
   "cell_type": "code",
   "execution_count": 14,
   "metadata": {},
   "outputs": [
    {
     "data": {
      "text/plain": [
       "0"
      ]
     },
     "execution_count": 14,
     "metadata": {},
     "output_type": "execute_result"
    }
   ],
   "source": [
    "df.duplicated(keep='first').sum()"
   ]
  },
  {
   "cell_type": "markdown",
   "metadata": {},
   "source": [
    "### Treat Outliers"
   ]
  },
  {
   "cell_type": "code",
   "execution_count": 15,
   "metadata": {},
   "outputs": [
    {
     "data": {
      "text/html": [
       "<div>\n",
       "<style scoped>\n",
       "    .dataframe tbody tr th:only-of-type {\n",
       "        vertical-align: middle;\n",
       "    }\n",
       "\n",
       "    .dataframe tbody tr th {\n",
       "        vertical-align: top;\n",
       "    }\n",
       "\n",
       "    .dataframe thead th {\n",
       "        text-align: right;\n",
       "    }\n",
       "</style>\n",
       "<table border=\"1\" class=\"dataframe\">\n",
       "  <thead>\n",
       "    <tr style=\"text-align: right;\">\n",
       "      <th></th>\n",
       "      <th>age</th>\n",
       "      <th>balance</th>\n",
       "      <th>months</th>\n",
       "      <th>weekspayment</th>\n",
       "      <th>annual</th>\n",
       "    </tr>\n",
       "  </thead>\n",
       "  <tbody>\n",
       "    <tr>\n",
       "      <th>count</th>\n",
       "      <td>100.000000</td>\n",
       "      <td>1.000000e+02</td>\n",
       "      <td>100.000000</td>\n",
       "      <td>100.000000</td>\n",
       "      <td>100.000000</td>\n",
       "    </tr>\n",
       "    <tr>\n",
       "      <th>mean</th>\n",
       "      <td>31.770000</td>\n",
       "      <td>1.434244e+05</td>\n",
       "      <td>11.840000</td>\n",
       "      <td>35.320000</td>\n",
       "      <td>119458.242800</td>\n",
       "    </tr>\n",
       "    <tr>\n",
       "      <th>std</th>\n",
       "      <td>11.544254</td>\n",
       "      <td>2.350789e+05</td>\n",
       "      <td>0.787786</td>\n",
       "      <td>14.606543</td>\n",
       "      <td>72684.766459</td>\n",
       "    </tr>\n",
       "    <tr>\n",
       "      <th>min</th>\n",
       "      <td>18.000000</td>\n",
       "      <td>1.376963e+04</td>\n",
       "      <td>8.000000</td>\n",
       "      <td>8.000000</td>\n",
       "      <td>29952.000000</td>\n",
       "    </tr>\n",
       "    <tr>\n",
       "      <th>25%</th>\n",
       "      <td>22.000000</td>\n",
       "      <td>4.965724e+04</td>\n",
       "      <td>12.000000</td>\n",
       "      <td>24.000000</td>\n",
       "      <td>59972.120000</td>\n",
       "    </tr>\n",
       "    <tr>\n",
       "      <th>50%</th>\n",
       "      <td>29.500000</td>\n",
       "      <td>7.227742e+04</td>\n",
       "      <td>12.000000</td>\n",
       "      <td>28.000000</td>\n",
       "      <td>101370.360000</td>\n",
       "    </tr>\n",
       "    <tr>\n",
       "      <th>75%</th>\n",
       "      <td>39.250000</td>\n",
       "      <td>1.150409e+05</td>\n",
       "      <td>12.000000</td>\n",
       "      <td>52.000000</td>\n",
       "      <td>150109.700000</td>\n",
       "    </tr>\n",
       "    <tr>\n",
       "      <th>max</th>\n",
       "      <td>78.000000</td>\n",
       "      <td>1.584768e+06</td>\n",
       "      <td>12.000000</td>\n",
       "      <td>56.000000</td>\n",
       "      <td>459470.960000</td>\n",
       "    </tr>\n",
       "  </tbody>\n",
       "</table>\n",
       "</div>"
      ],
      "text/plain": [
       "              age       balance      months  weekspayment         annual\n",
       "count  100.000000  1.000000e+02  100.000000    100.000000     100.000000\n",
       "mean    31.770000  1.434244e+05   11.840000     35.320000  119458.242800\n",
       "std     11.544254  2.350789e+05    0.787786     14.606543   72684.766459\n",
       "min     18.000000  1.376963e+04    8.000000      8.000000   29952.000000\n",
       "25%     22.000000  4.965724e+04   12.000000     24.000000   59972.120000\n",
       "50%     29.500000  7.227742e+04   12.000000     28.000000  101370.360000\n",
       "75%     39.250000  1.150409e+05   12.000000     52.000000  150109.700000\n",
       "max     78.000000  1.584768e+06   12.000000     56.000000  459470.960000"
      ]
     },
     "execution_count": 15,
     "metadata": {},
     "output_type": "execute_result"
    }
   ],
   "source": [
    "df.describe()"
   ]
  },
  {
   "cell_type": "code",
   "execution_count": 16,
   "metadata": {},
   "outputs": [
    {
     "data": {
      "text/plain": [
       "Index(['account', 'first_name', 'age', 'gender', 'balance', 'months', 'weekspayment', 'annual'], dtype='object')"
      ]
     },
     "execution_count": 16,
     "metadata": {},
     "output_type": "execute_result"
    }
   ],
   "source": [
    "df.columns"
   ]
  },
  {
   "cell_type": "code",
   "execution_count": 17,
   "metadata": {},
   "outputs": [],
   "source": [
    "df.drop(['account', 'first_name'],axis=1,inplace=True)"
   ]
  },
  {
   "cell_type": "code",
   "execution_count": 18,
   "metadata": {},
   "outputs": [
    {
     "data": {
      "text/html": [
       "<div>\n",
       "<style scoped>\n",
       "    .dataframe tbody tr th:only-of-type {\n",
       "        vertical-align: middle;\n",
       "    }\n",
       "\n",
       "    .dataframe tbody tr th {\n",
       "        vertical-align: top;\n",
       "    }\n",
       "\n",
       "    .dataframe thead th {\n",
       "        text-align: right;\n",
       "    }\n",
       "</style>\n",
       "<table border=\"1\" class=\"dataframe\">\n",
       "  <thead>\n",
       "    <tr style=\"text-align: right;\">\n",
       "      <th></th>\n",
       "      <th>age</th>\n",
       "      <th>gender</th>\n",
       "      <th>balance</th>\n",
       "      <th>months</th>\n",
       "      <th>weekspayment</th>\n",
       "      <th>annual</th>\n",
       "    </tr>\n",
       "  </thead>\n",
       "  <tbody>\n",
       "    <tr>\n",
       "      <th>0</th>\n",
       "      <td>40</td>\n",
       "      <td>F</td>\n",
       "      <td>51472.20</td>\n",
       "      <td>12</td>\n",
       "      <td>52</td>\n",
       "      <td>46388.68</td>\n",
       "    </tr>\n",
       "    <tr>\n",
       "      <th>1</th>\n",
       "      <td>22</td>\n",
       "      <td>M</td>\n",
       "      <td>298308.49</td>\n",
       "      <td>12</td>\n",
       "      <td>24</td>\n",
       "      <td>166140.52</td>\n",
       "    </tr>\n",
       "    <tr>\n",
       "      <th>2</th>\n",
       "      <td>52</td>\n",
       "      <td>M</td>\n",
       "      <td>86898.05</td>\n",
       "      <td>12</td>\n",
       "      <td>28</td>\n",
       "      <td>196860.56</td>\n",
       "    </tr>\n",
       "    <tr>\n",
       "      <th>3</th>\n",
       "      <td>27</td>\n",
       "      <td>F</td>\n",
       "      <td>13769.63</td>\n",
       "      <td>8</td>\n",
       "      <td>8</td>\n",
       "      <td>252908.24</td>\n",
       "    </tr>\n",
       "    <tr>\n",
       "      <th>4</th>\n",
       "      <td>38</td>\n",
       "      <td>M</td>\n",
       "      <td>22826.60</td>\n",
       "      <td>12</td>\n",
       "      <td>52</td>\n",
       "      <td>52110.76</td>\n",
       "    </tr>\n",
       "    <tr>\n",
       "      <th>...</th>\n",
       "      <td>...</td>\n",
       "      <td>...</td>\n",
       "      <td>...</td>\n",
       "      <td>...</td>\n",
       "      <td>...</td>\n",
       "      <td>...</td>\n",
       "    </tr>\n",
       "    <tr>\n",
       "      <th>95</th>\n",
       "      <td>28</td>\n",
       "      <td>M</td>\n",
       "      <td>88169.32</td>\n",
       "      <td>12</td>\n",
       "      <td>28</td>\n",
       "      <td>132011.36</td>\n",
       "    </tr>\n",
       "    <tr>\n",
       "      <th>96</th>\n",
       "      <td>35</td>\n",
       "      <td>M</td>\n",
       "      <td>65301.33</td>\n",
       "      <td>12</td>\n",
       "      <td>24</td>\n",
       "      <td>120050.84</td>\n",
       "    </tr>\n",
       "    <tr>\n",
       "      <th>97</th>\n",
       "      <td>34</td>\n",
       "      <td>F</td>\n",
       "      <td>59807.25</td>\n",
       "      <td>12</td>\n",
       "      <td>28</td>\n",
       "      <td>182915.72</td>\n",
       "    </tr>\n",
       "    <tr>\n",
       "      <th>98</th>\n",
       "      <td>21</td>\n",
       "      <td>M</td>\n",
       "      <td>467645.22</td>\n",
       "      <td>12</td>\n",
       "      <td>52</td>\n",
       "      <td>81130.40</td>\n",
       "    </tr>\n",
       "    <tr>\n",
       "      <th>99</th>\n",
       "      <td>21</td>\n",
       "      <td>M</td>\n",
       "      <td>49877.75</td>\n",
       "      <td>12</td>\n",
       "      <td>28</td>\n",
       "      <td>133791.32</td>\n",
       "    </tr>\n",
       "  </tbody>\n",
       "</table>\n",
       "<p>100 rows × 6 columns</p>\n",
       "</div>"
      ],
      "text/plain": [
       "    age gender    balance  months  weekspayment     annual\n",
       "0    40      F   51472.20      12            52   46388.68\n",
       "1    22      M  298308.49      12            24  166140.52\n",
       "2    52      M   86898.05      12            28  196860.56\n",
       "3    27      F   13769.63       8             8  252908.24\n",
       "4    38      M   22826.60      12            52   52110.76\n",
       "..  ...    ...        ...     ...           ...        ...\n",
       "95   28      M   88169.32      12            28  132011.36\n",
       "96   35      M   65301.33      12            24  120050.84\n",
       "97   34      F   59807.25      12            28  182915.72\n",
       "98   21      M  467645.22      12            52   81130.40\n",
       "99   21      M   49877.75      12            28  133791.32\n",
       "\n",
       "[100 rows x 6 columns]"
      ]
     },
     "execution_count": 18,
     "metadata": {},
     "output_type": "execute_result"
    }
   ],
   "source": [
    "df"
   ]
  },
  {
   "cell_type": "markdown",
   "metadata": {},
   "source": [
    "### Perform One-Hot Encoding"
   ]
  },
  {
   "cell_type": "code",
   "execution_count": 19,
   "metadata": {},
   "outputs": [],
   "source": [
    "df2 = pd.get_dummies(df, drop_first=True)"
   ]
  },
  {
   "cell_type": "code",
   "execution_count": 20,
   "metadata": {},
   "outputs": [
    {
     "data": {
      "text/html": [
       "<div>\n",
       "<style scoped>\n",
       "    .dataframe tbody tr th:only-of-type {\n",
       "        vertical-align: middle;\n",
       "    }\n",
       "\n",
       "    .dataframe tbody tr th {\n",
       "        vertical-align: top;\n",
       "    }\n",
       "\n",
       "    .dataframe thead th {\n",
       "        text-align: right;\n",
       "    }\n",
       "</style>\n",
       "<table border=\"1\" class=\"dataframe\">\n",
       "  <thead>\n",
       "    <tr style=\"text-align: right;\">\n",
       "      <th></th>\n",
       "      <th>age</th>\n",
       "      <th>balance</th>\n",
       "      <th>months</th>\n",
       "      <th>weekspayment</th>\n",
       "      <th>annual</th>\n",
       "      <th>gender_M</th>\n",
       "    </tr>\n",
       "  </thead>\n",
       "  <tbody>\n",
       "    <tr>\n",
       "      <th>0</th>\n",
       "      <td>40</td>\n",
       "      <td>51472.20</td>\n",
       "      <td>12</td>\n",
       "      <td>52</td>\n",
       "      <td>46388.68</td>\n",
       "      <td>0</td>\n",
       "    </tr>\n",
       "    <tr>\n",
       "      <th>1</th>\n",
       "      <td>22</td>\n",
       "      <td>298308.49</td>\n",
       "      <td>12</td>\n",
       "      <td>24</td>\n",
       "      <td>166140.52</td>\n",
       "      <td>1</td>\n",
       "    </tr>\n",
       "    <tr>\n",
       "      <th>2</th>\n",
       "      <td>52</td>\n",
       "      <td>86898.05</td>\n",
       "      <td>12</td>\n",
       "      <td>28</td>\n",
       "      <td>196860.56</td>\n",
       "      <td>1</td>\n",
       "    </tr>\n",
       "    <tr>\n",
       "      <th>3</th>\n",
       "      <td>27</td>\n",
       "      <td>13769.63</td>\n",
       "      <td>8</td>\n",
       "      <td>8</td>\n",
       "      <td>252908.24</td>\n",
       "      <td>0</td>\n",
       "    </tr>\n",
       "    <tr>\n",
       "      <th>4</th>\n",
       "      <td>38</td>\n",
       "      <td>22826.60</td>\n",
       "      <td>12</td>\n",
       "      <td>52</td>\n",
       "      <td>52110.76</td>\n",
       "      <td>1</td>\n",
       "    </tr>\n",
       "    <tr>\n",
       "      <th>...</th>\n",
       "      <td>...</td>\n",
       "      <td>...</td>\n",
       "      <td>...</td>\n",
       "      <td>...</td>\n",
       "      <td>...</td>\n",
       "      <td>...</td>\n",
       "    </tr>\n",
       "    <tr>\n",
       "      <th>95</th>\n",
       "      <td>28</td>\n",
       "      <td>88169.32</td>\n",
       "      <td>12</td>\n",
       "      <td>28</td>\n",
       "      <td>132011.36</td>\n",
       "      <td>1</td>\n",
       "    </tr>\n",
       "    <tr>\n",
       "      <th>96</th>\n",
       "      <td>35</td>\n",
       "      <td>65301.33</td>\n",
       "      <td>12</td>\n",
       "      <td>24</td>\n",
       "      <td>120050.84</td>\n",
       "      <td>1</td>\n",
       "    </tr>\n",
       "    <tr>\n",
       "      <th>97</th>\n",
       "      <td>34</td>\n",
       "      <td>59807.25</td>\n",
       "      <td>12</td>\n",
       "      <td>28</td>\n",
       "      <td>182915.72</td>\n",
       "      <td>0</td>\n",
       "    </tr>\n",
       "    <tr>\n",
       "      <th>98</th>\n",
       "      <td>21</td>\n",
       "      <td>467645.22</td>\n",
       "      <td>12</td>\n",
       "      <td>52</td>\n",
       "      <td>81130.40</td>\n",
       "      <td>1</td>\n",
       "    </tr>\n",
       "    <tr>\n",
       "      <th>99</th>\n",
       "      <td>21</td>\n",
       "      <td>49877.75</td>\n",
       "      <td>12</td>\n",
       "      <td>28</td>\n",
       "      <td>133791.32</td>\n",
       "      <td>1</td>\n",
       "    </tr>\n",
       "  </tbody>\n",
       "</table>\n",
       "<p>100 rows × 6 columns</p>\n",
       "</div>"
      ],
      "text/plain": [
       "    age    balance  months  weekspayment     annual  gender_M\n",
       "0    40   51472.20      12            52   46388.68         0\n",
       "1    22  298308.49      12            24  166140.52         1\n",
       "2    52   86898.05      12            28  196860.56         1\n",
       "3    27   13769.63       8             8  252908.24         0\n",
       "4    38   22826.60      12            52   52110.76         1\n",
       "..  ...        ...     ...           ...        ...       ...\n",
       "95   28   88169.32      12            28  132011.36         1\n",
       "96   35   65301.33      12            24  120050.84         1\n",
       "97   34   59807.25      12            28  182915.72         0\n",
       "98   21  467645.22      12            52   81130.40         1\n",
       "99   21   49877.75      12            28  133791.32         1\n",
       "\n",
       "[100 rows x 6 columns]"
      ]
     },
     "execution_count": 20,
     "metadata": {},
     "output_type": "execute_result"
    }
   ],
   "source": [
    "df2"
   ]
  },
  {
   "cell_type": "code",
   "execution_count": 21,
   "metadata": {},
   "outputs": [
    {
     "data": {
      "text/plain": [
       "Index(['age', 'balance', 'months', 'weekspayment', 'annual', 'gender_M'], dtype='object')"
      ]
     },
     "execution_count": 21,
     "metadata": {},
     "output_type": "execute_result"
    }
   ],
   "source": [
    "df2.columns"
   ]
  },
  {
   "cell_type": "code",
   "execution_count": 22,
   "metadata": {},
   "outputs": [],
   "source": [
    "df2 = df2[['age', 'balance', 'months', 'weekspayment','gender_M','annual']]"
   ]
  },
  {
   "cell_type": "code",
   "execution_count": 23,
   "metadata": {},
   "outputs": [
    {
     "data": {
      "text/html": [
       "<div>\n",
       "<style scoped>\n",
       "    .dataframe tbody tr th:only-of-type {\n",
       "        vertical-align: middle;\n",
       "    }\n",
       "\n",
       "    .dataframe tbody tr th {\n",
       "        vertical-align: top;\n",
       "    }\n",
       "\n",
       "    .dataframe thead th {\n",
       "        text-align: right;\n",
       "    }\n",
       "</style>\n",
       "<table border=\"1\" class=\"dataframe\">\n",
       "  <thead>\n",
       "    <tr style=\"text-align: right;\">\n",
       "      <th></th>\n",
       "      <th>age</th>\n",
       "      <th>balance</th>\n",
       "      <th>months</th>\n",
       "      <th>weekspayment</th>\n",
       "      <th>gender_M</th>\n",
       "      <th>annual</th>\n",
       "    </tr>\n",
       "  </thead>\n",
       "  <tbody>\n",
       "    <tr>\n",
       "      <th>0</th>\n",
       "      <td>40</td>\n",
       "      <td>51472.20</td>\n",
       "      <td>12</td>\n",
       "      <td>52</td>\n",
       "      <td>0</td>\n",
       "      <td>46388.68</td>\n",
       "    </tr>\n",
       "    <tr>\n",
       "      <th>1</th>\n",
       "      <td>22</td>\n",
       "      <td>298308.49</td>\n",
       "      <td>12</td>\n",
       "      <td>24</td>\n",
       "      <td>1</td>\n",
       "      <td>166140.52</td>\n",
       "    </tr>\n",
       "    <tr>\n",
       "      <th>2</th>\n",
       "      <td>52</td>\n",
       "      <td>86898.05</td>\n",
       "      <td>12</td>\n",
       "      <td>28</td>\n",
       "      <td>1</td>\n",
       "      <td>196860.56</td>\n",
       "    </tr>\n",
       "    <tr>\n",
       "      <th>3</th>\n",
       "      <td>27</td>\n",
       "      <td>13769.63</td>\n",
       "      <td>8</td>\n",
       "      <td>8</td>\n",
       "      <td>0</td>\n",
       "      <td>252908.24</td>\n",
       "    </tr>\n",
       "    <tr>\n",
       "      <th>4</th>\n",
       "      <td>38</td>\n",
       "      <td>22826.60</td>\n",
       "      <td>12</td>\n",
       "      <td>52</td>\n",
       "      <td>1</td>\n",
       "      <td>52110.76</td>\n",
       "    </tr>\n",
       "    <tr>\n",
       "      <th>...</th>\n",
       "      <td>...</td>\n",
       "      <td>...</td>\n",
       "      <td>...</td>\n",
       "      <td>...</td>\n",
       "      <td>...</td>\n",
       "      <td>...</td>\n",
       "    </tr>\n",
       "    <tr>\n",
       "      <th>95</th>\n",
       "      <td>28</td>\n",
       "      <td>88169.32</td>\n",
       "      <td>12</td>\n",
       "      <td>28</td>\n",
       "      <td>1</td>\n",
       "      <td>132011.36</td>\n",
       "    </tr>\n",
       "    <tr>\n",
       "      <th>96</th>\n",
       "      <td>35</td>\n",
       "      <td>65301.33</td>\n",
       "      <td>12</td>\n",
       "      <td>24</td>\n",
       "      <td>1</td>\n",
       "      <td>120050.84</td>\n",
       "    </tr>\n",
       "    <tr>\n",
       "      <th>97</th>\n",
       "      <td>34</td>\n",
       "      <td>59807.25</td>\n",
       "      <td>12</td>\n",
       "      <td>28</td>\n",
       "      <td>0</td>\n",
       "      <td>182915.72</td>\n",
       "    </tr>\n",
       "    <tr>\n",
       "      <th>98</th>\n",
       "      <td>21</td>\n",
       "      <td>467645.22</td>\n",
       "      <td>12</td>\n",
       "      <td>52</td>\n",
       "      <td>1</td>\n",
       "      <td>81130.40</td>\n",
       "    </tr>\n",
       "    <tr>\n",
       "      <th>99</th>\n",
       "      <td>21</td>\n",
       "      <td>49877.75</td>\n",
       "      <td>12</td>\n",
       "      <td>28</td>\n",
       "      <td>1</td>\n",
       "      <td>133791.32</td>\n",
       "    </tr>\n",
       "  </tbody>\n",
       "</table>\n",
       "<p>100 rows × 6 columns</p>\n",
       "</div>"
      ],
      "text/plain": [
       "    age    balance  months  weekspayment  gender_M     annual\n",
       "0    40   51472.20      12            52         0   46388.68\n",
       "1    22  298308.49      12            24         1  166140.52\n",
       "2    52   86898.05      12            28         1  196860.56\n",
       "3    27   13769.63       8             8         0  252908.24\n",
       "4    38   22826.60      12            52         1   52110.76\n",
       "..  ...        ...     ...           ...       ...        ...\n",
       "95   28   88169.32      12            28         1  132011.36\n",
       "96   35   65301.33      12            24         1  120050.84\n",
       "97   34   59807.25      12            28         0  182915.72\n",
       "98   21  467645.22      12            52         1   81130.40\n",
       "99   21   49877.75      12            28         1  133791.32\n",
       "\n",
       "[100 rows x 6 columns]"
      ]
     },
     "execution_count": 23,
     "metadata": {},
     "output_type": "execute_result"
    }
   ],
   "source": [
    "df2"
   ]
  },
  {
   "cell_type": "markdown",
   "metadata": {},
   "source": [
    "### Treat Data Types"
   ]
  },
  {
   "cell_type": "code",
   "execution_count": 24,
   "metadata": {},
   "outputs": [
    {
     "name": "stdout",
     "output_type": "stream",
     "text": [
      "<class 'pandas.core.frame.DataFrame'>\n",
      "RangeIndex: 100 entries, 0 to 99\n",
      "Data columns (total 6 columns):\n",
      " #   Column        Non-Null Count  Dtype  \n",
      "---  ------        --------------  -----  \n",
      " 0   age           100 non-null    int64  \n",
      " 1   balance       100 non-null    float64\n",
      " 2   months        100 non-null    int64  \n",
      " 3   weekspayment  100 non-null    int64  \n",
      " 4   gender_M      100 non-null    uint8  \n",
      " 5   annual        100 non-null    float64\n",
      "dtypes: float64(2), int64(3), uint8(1)\n",
      "memory usage: 4.1 KB\n"
     ]
    }
   ],
   "source": [
    "df2.info()"
   ]
  },
  {
   "cell_type": "markdown",
   "metadata": {},
   "source": [
    "### Create and save processed dataset"
   ]
  },
  {
   "cell_type": "code",
   "execution_count": 25,
   "metadata": {},
   "outputs": [],
   "source": [
    "#df2.to_csv(\"train.csv\",index=False)"
   ]
  },
  {
   "cell_type": "markdown",
   "metadata": {},
   "source": [
    "### Train Test Split"
   ]
  },
  {
   "cell_type": "code",
   "execution_count": 26,
   "metadata": {},
   "outputs": [
    {
     "data": {
      "text/plain": [
       "(100, 6)"
      ]
     },
     "execution_count": 26,
     "metadata": {},
     "output_type": "execute_result"
    }
   ],
   "source": [
    "df2.shape"
   ]
  },
  {
   "cell_type": "code",
   "execution_count": 27,
   "metadata": {},
   "outputs": [],
   "source": [
    "X = df2.iloc[:,0:5]\n",
    "y = df2.iloc[:,5]"
   ]
  },
  {
   "cell_type": "code",
   "execution_count": 28,
   "metadata": {},
   "outputs": [
    {
     "data": {
      "text/plain": [
       "(array([[     40.  ,   51472.2 ,      12.  ,      52.  ,       0.  ],\n",
       "        [     22.  ,  298308.49,      12.  ,      24.  ,       1.  ],\n",
       "        [     52.  ,   86898.05,      12.  ,      28.  ,       1.  ],\n",
       "        [     27.  ,   13769.63,       8.  ,       8.  ,       0.  ],\n",
       "        [     38.  ,   22826.6 ,      12.  ,      52.  ,       1.  ],\n",
       "        [     42.  ,   28575.85,      12.  ,      24.  ,       1.  ],\n",
       "        [     44.  ,   49934.57,      12.  ,      24.  ,       1.  ],\n",
       "        [     33.  ,  381472.24,      12.  ,      24.  ,       1.  ],\n",
       "        [     46.  ,  122866.07,      12.  ,      24.  ,       0.  ],\n",
       "        [     39.  ,   89270.66,      12.  ,      28.  ,       1.  ],\n",
       "        [     22.  ,   37087.99,      12.  ,      24.  ,       1.  ],\n",
       "        [     35.  ,   57016.46,      12.  ,      52.  ,       0.  ],\n",
       "        [     31.  ,   51803.62,      12.  ,      52.  ,       1.  ],\n",
       "        [     43.  ,  183287.54,      12.  ,      52.  ,       1.  ],\n",
       "        [     21.  ,   31881.05,      12.  ,      28.  ,       0.  ],\n",
       "        [     40.  ,  295834.6 ,      12.  ,      16.  ,       1.  ],\n",
       "        [     18.  ,   17476.44,      12.  ,      24.  ,       0.  ],\n",
       "        [     26.  ,   29963.79,      12.  ,      56.  ,       0.  ],\n",
       "        [     20.  ,   40760.94,      12.  ,      24.  ,       1.  ],\n",
       "        [     23.  ,  150375.3 ,      12.  ,      56.  ,       0.  ],\n",
       "        [     38.  ,  128339.74,      12.  ,      24.  ,       0.  ],\n",
       "        [     38.  ,   43956.52,      12.  ,      24.  ,       1.  ],\n",
       "        [     19.  ,   88893.08,      12.  ,      28.  ,       0.  ],\n",
       "        [     21.  ,   48462.09,      12.  ,      28.  ,       0.  ],\n",
       "        [     20.  ,   97942.75,      12.  ,      56.  ,       0.  ],\n",
       "        [     27.  ,   50023.1 ,      12.  ,      28.  ,       0.  ],\n",
       "        [     38.  ,   92901.74,      12.  ,      24.  ,       1.  ],\n",
       "        [     30.  ,   25328.81,      12.  ,      24.  ,       1.  ],\n",
       "        [     26.  ,   78678.67,      12.  ,      56.  ,       1.  ],\n",
       "        [     21.  ,   72529.42,      12.  ,      52.  ,       0.  ],\n",
       "        [     42.  ,  105414.15,      12.  ,      24.  ,       1.  ],\n",
       "        [     46.  , 1584768.28,      12.  ,      24.  ,       1.  ],\n",
       "        [     22.  ,   48995.72,      12.  ,      24.  ,       1.  ],\n",
       "        [     30.  ,   14129.58,       8.  ,       8.  ,       0.  ],\n",
       "        [     24.  ,   20776.76,      12.  ,      12.  ,       0.  ],\n",
       "        [     19.  ,   93731.43,      12.  ,      28.  ,       1.  ],\n",
       "        [     27.  ,   95447.77,      12.  ,      52.  ,       1.  ],\n",
       "        [     35.  ,  204657.85,      12.  ,      52.  ,       0.  ],\n",
       "        [     19.  ,  114059.67,      12.  ,      52.  ,       1.  ],\n",
       "        [     19.  ,   75015.58,      12.  ,      24.  ,       0.  ],\n",
       "        [     26.  ,   27918.85,      12.  ,      24.  ,       0.  ],\n",
       "        [     20.  ,   53532.66,      12.  ,      16.  ,       1.  ],\n",
       "        [     18.  ,   55894.36,      12.  ,      52.  ,       0.  ],\n",
       "        [     29.  ,  106299.1 ,      12.  ,      28.  ,       1.  ],\n",
       "        [     40.  ,  151094.12,      12.  ,      52.  ,       0.  ],\n",
       "        [     43.  ,  409793.72,      12.  ,      52.  ,       0.  ],\n",
       "        [     42.  ,  792776.29,      12.  ,      28.  ,       1.  ],\n",
       "        [     24.  ,   38285.3 ,       8.  ,       8.  ,       1.  ],\n",
       "        [     50.  ,  198251.88,      12.  ,      28.  ,       0.  ],\n",
       "        [     31.  ,   50652.61,      12.  ,      24.  ,       1.  ],\n",
       "        [     43.  ,   72949.87,      12.  ,      56.  ,       0.  ],\n",
       "        [     53.  ,   61342.65,      12.  ,      52.  ,       0.  ],\n",
       "        [     37.  ,   39874.67,      12.  ,      52.  ,       1.  ],\n",
       "        [     23.  ,   66750.5 ,      12.  ,      52.  ,       1.  ],\n",
       "        [     22.  ,   59122.64,      12.  ,      28.  ,       1.  ],\n",
       "        [     69.  ,   94283.29,      12.  ,      56.  ,       1.  ],\n",
       "        [     26.  ,   58334.28,      12.  ,      24.  ,       1.  ],\n",
       "        [     44.  ,   63183.45,      12.  ,      48.  ,       1.  ],\n",
       "        [     30.  ,  105638.82,      12.  ,      52.  ,       0.  ],\n",
       "        [     19.  ,   57364.72,      12.  ,      28.  ,       0.  ],\n",
       "        [     25.  ,   16864.59,       8.  ,       8.  ,       1.  ],\n",
       "        [     34.  ,  114575.08,      12.  ,      52.  ,       0.  ],\n",
       "        [     35.  ,  164255.24,      12.  ,      52.  ,       1.  ],\n",
       "        [     22.  ,  116438.43,      12.  ,      56.  ,       1.  ],\n",
       "        [     25.  ,   67715.64,      12.  ,      52.  ,       0.  ],\n",
       "        [     34.  ,  166920.02,      12.  ,      28.  ,       0.  ],\n",
       "        [     41.  ,   32786.24,      12.  ,      24.  ,       0.  ],\n",
       "        [     39.  ,   78807.94,      12.  ,      20.  ,       0.  ],\n",
       "        [     24.  ,   27141.67,      12.  ,      28.  ,       1.  ],\n",
       "        [     20.  ,   76688.05,      12.  ,      52.  ,       0.  ],\n",
       "        [     25.  ,   64581.35,      12.  ,      28.  ,       0.  ],\n",
       "        [     18.  ,   98107.03,      12.  ,      28.  ,       1.  ],\n",
       "        [     20.  ,   58654.59,      12.  ,      52.  ,       1.  ],\n",
       "        [     28.  ,  244401.96,      12.  ,      24.  ,       1.  ],\n",
       "        [     40.  , 1398902.55,      12.  ,      28.  ,       0.  ],\n",
       "        [     37.  ,   72025.43,      12.  ,      48.  ,       1.  ],\n",
       "        [     38.  ,  506145.72,      12.  ,      52.  ,       1.  ],\n",
       "        [     25.  ,   54667.71,      12.  ,      24.  ,       1.  ],\n",
       "        [     47.  ,   75920.32,      12.  ,      52.  ,       0.  ],\n",
       "        [     38.  ,  399484.97,      12.  ,      28.  ,       1.  ],\n",
       "        [     21.  ,   83700.42,      12.  ,      28.  ,       1.  ],\n",
       "        [     43.  ,   26484.2 ,      12.  ,      24.  ,       0.  ],\n",
       "        [     26.  ,   94134.87,      12.  ,      48.  ,       0.  ],\n",
       "        [     24.  ,   51624.95,      12.  ,      52.  ,       0.  ],\n",
       "        [     20.  ,   42000.3 ,      12.  ,      24.  ,       1.  ],\n",
       "        [     42.  ,  275038.66,      12.  ,      28.  ,       1.  ],\n",
       "        [     35.  ,   54704.11,      12.  ,      48.  ,       0.  ],\n",
       "        [     64.  ,   36491.38,      12.  ,      52.  ,       0.  ],\n",
       "        [     18.  ,   26536.67,      12.  ,      24.  ,       0.  ],\n",
       "        [     23.  ,  111215.39,      12.  ,      28.  ,       1.  ],\n",
       "        [     40.  ,  171879.76,      12.  ,      52.  ,       1.  ],\n",
       "        [     78.  ,  657477.5 ,      12.  ,      48.  ,       1.  ],\n",
       "        [     28.  ,   35050.32,      12.  ,      24.  ,       1.  ],\n",
       "        [     30.  ,   71436.2 ,      12.  ,      56.  ,       0.  ],\n",
       "        [     19.  ,  350505.83,      12.  ,      24.  ,       1.  ],\n",
       "        [     28.  ,   88169.32,      12.  ,      28.  ,       1.  ],\n",
       "        [     35.  ,   65301.33,      12.  ,      24.  ,       1.  ],\n",
       "        [     34.  ,   59807.25,      12.  ,      28.  ,       0.  ],\n",
       "        [     21.  ,  467645.22,      12.  ,      52.  ,       1.  ],\n",
       "        [     21.  ,   49877.75,      12.  ,      28.  ,       1.  ]]),\n",
       " array([ 46388.68, 166140.52, 196860.56, 252908.24,  52110.76,  87442.16,\n",
       "        150141.68, 141362.52, 128463.4 , 159699.28, 100306.44,  44873.4 ,\n",
       "         51804.48, 134576.52, 119944.76, 459470.96,  79959.36,  52710.84,\n",
       "        120655.6 ,  84576.96,  80138.24, 130000.  , 206827.92, 105231.36,\n",
       "         72565.48, 147687.8 , 189774.52,  94048.24,  57143.32,  53927.64,\n",
       "         91406.12, 113357.92, 115373.96, 255366.8 , 193053.12, 137267.52,\n",
       "         72603.96, 127048.48,  51508.6 , 191200.88,  95843.28, 157401.4 ,\n",
       "         39589.16, 229075.6 , 101221.64,  34550.36, 168025.52, 313273.48,\n",
       "         74722.96, 150099.04,  55538.08,  50464.44,  47707.4 ,  51100.92,\n",
       "        173096.04,  54242.24,  74566.96,  31009.16,  85109.44, 129239.24,\n",
       "        317575.96,  88992.28, 132327.52,  51134.72,  63717.16, 202993.96,\n",
       "        109278.52, 265382.52,  73220.16,  59217.08, 118682.72, 214875.96,\n",
       "         57184.4 , 210848.04, 219234.08,  47671.  ,  97809.4 , 139768.2 ,\n",
       "         66168.44, 137663.76, 186089.8 ,  84778.72,  47876.92,  55111.68,\n",
       "         85323.16,  91406.64,  37716.64,  29952.  , 101519.08, 203005.4 ,\n",
       "        118578.72,  40685.84,  99658.52,  60223.8 , 148446.48, 132011.36,\n",
       "        120050.84, 182915.72,  81130.4 , 133791.32]))"
      ]
     },
     "execution_count": 28,
     "metadata": {},
     "output_type": "execute_result"
    }
   ],
   "source": [
    "X.values, y.values"
   ]
  },
  {
   "cell_type": "code",
   "execution_count": 29,
   "metadata": {},
   "outputs": [],
   "source": [
    "X_train, X_test, y_train, y_test = train_test_split(X.values, y.values, test_size=0.2, random_state=0)"
   ]
  },
  {
   "cell_type": "code",
   "execution_count": 30,
   "metadata": {},
   "outputs": [
    {
     "data": {
      "text/plain": [
       "((80, 5), (20, 5), (80,), (20,))"
      ]
     },
     "execution_count": 30,
     "metadata": {},
     "output_type": "execute_result"
    }
   ],
   "source": [
    "X_train.shape, X_test.shape, y_train.shape, y_test.shape"
   ]
  },
  {
   "cell_type": "markdown",
   "metadata": {},
   "source": [
    "### Feature Scaling"
   ]
  },
  {
   "cell_type": "code",
   "execution_count": 31,
   "metadata": {},
   "outputs": [
    {
     "data": {
      "text/plain": [
       "array([[     29.  ,  106299.1 ,      12.  ,      28.  ,       1.  ],\n",
       "       [     35.  ,  164255.24,      12.  ,      52.  ,       1.  ],\n",
       "       [     27.  ,   13769.63,       8.  ,       8.  ,       0.  ],\n",
       "       [     18.  ,   98107.03,      12.  ,      28.  ,       1.  ],\n",
       "       [     43.  ,  409793.72,      12.  ,      52.  ,       0.  ],\n",
       "       [     50.  ,  198251.88,      12.  ,      28.  ,       0.  ],\n",
       "       [     44.  ,   49934.57,      12.  ,      24.  ,       1.  ],\n",
       "       [     21.  ,   49877.75,      12.  ,      28.  ,       1.  ],\n",
       "       [     26.  ,   94134.87,      12.  ,      48.  ,       0.  ],\n",
       "       [     38.  ,  506145.72,      12.  ,      52.  ,       1.  ],\n",
       "       [     25.  ,   16864.59,       8.  ,       8.  ,       1.  ],\n",
       "       [     21.  ,   83700.42,      12.  ,      28.  ,       1.  ],\n",
       "       [     40.  ,  171879.76,      12.  ,      52.  ,       1.  ],\n",
       "       [     24.  ,   27141.67,      12.  ,      28.  ,       1.  ],\n",
       "       [     53.  ,   61342.65,      12.  ,      52.  ,       0.  ],\n",
       "       [     30.  ,   25328.81,      12.  ,      24.  ,       1.  ],\n",
       "       [     20.  ,   40760.94,      12.  ,      24.  ,       1.  ],\n",
       "       [     26.  ,   58334.28,      12.  ,      24.  ,       1.  ],\n",
       "       [     22.  ,  116438.43,      12.  ,      56.  ,       1.  ],\n",
       "       [     40.  , 1398902.55,      12.  ,      28.  ,       0.  ],\n",
       "       [     22.  ,  298308.49,      12.  ,      24.  ,       1.  ],\n",
       "       [     34.  ,  114575.08,      12.  ,      52.  ,       0.  ],\n",
       "       [     18.  ,   55894.36,      12.  ,      52.  ,       0.  ],\n",
       "       [     20.  ,   53532.66,      12.  ,      16.  ,       1.  ],\n",
       "       [     38.  ,   22826.6 ,      12.  ,      52.  ,       1.  ],\n",
       "       [     40.  ,  295834.6 ,      12.  ,      16.  ,       1.  ],\n",
       "       [     26.  ,   29963.79,      12.  ,      56.  ,       0.  ],\n",
       "       [     26.  ,   27918.85,      12.  ,      24.  ,       0.  ],\n",
       "       [     19.  ,  114059.67,      12.  ,      52.  ,       1.  ],\n",
       "       [     42.  ,   28575.85,      12.  ,      24.  ,       1.  ],\n",
       "       [     78.  ,  657477.5 ,      12.  ,      48.  ,       1.  ],\n",
       "       [     19.  ,   57364.72,      12.  ,      28.  ,       0.  ],\n",
       "       [     40.  ,   51472.2 ,      12.  ,      52.  ,       0.  ],\n",
       "       [     24.  ,   20776.76,      12.  ,      12.  ,       0.  ],\n",
       "       [     26.  ,   78678.67,      12.  ,      56.  ,       1.  ],\n",
       "       [     43.  ,   72949.87,      12.  ,      56.  ,       0.  ],\n",
       "       [     35.  ,   57016.46,      12.  ,      52.  ,       0.  ],\n",
       "       [     19.  ,   93731.43,      12.  ,      28.  ,       1.  ],\n",
       "       [     21.  ,   48462.09,      12.  ,      28.  ,       0.  ],\n",
       "       [     37.  ,   39874.67,      12.  ,      52.  ,       1.  ],\n",
       "       [     22.  ,   37087.99,      12.  ,      24.  ,       1.  ],\n",
       "       [     46.  , 1584768.28,      12.  ,      24.  ,       1.  ],\n",
       "       [     41.  ,   32786.24,      12.  ,      24.  ,       0.  ],\n",
       "       [     44.  ,   63183.45,      12.  ,      48.  ,       1.  ],\n",
       "       [     38.  ,  399484.97,      12.  ,      28.  ,       1.  ],\n",
       "       [     42.  ,  275038.66,      12.  ,      28.  ,       1.  ],\n",
       "       [     22.  ,   48995.72,      12.  ,      24.  ,       1.  ],\n",
       "       [     20.  ,   42000.3 ,      12.  ,      24.  ,       1.  ],\n",
       "       [     21.  ,   31881.05,      12.  ,      28.  ,       0.  ],\n",
       "       [     23.  ,  111215.39,      12.  ,      28.  ,       1.  ],\n",
       "       [     23.  ,  150375.3 ,      12.  ,      56.  ,       0.  ],\n",
       "       [     21.  ,   72529.42,      12.  ,      52.  ,       0.  ],\n",
       "       [     31.  ,   50652.61,      12.  ,      24.  ,       1.  ],\n",
       "       [     34.  ,   59807.25,      12.  ,      28.  ,       0.  ],\n",
       "       [     21.  ,  467645.22,      12.  ,      52.  ,       1.  ],\n",
       "       [     20.  ,   76688.05,      12.  ,      52.  ,       0.  ],\n",
       "       [     38.  ,  128339.74,      12.  ,      24.  ,       0.  ],\n",
       "       [     19.  ,  350505.83,      12.  ,      24.  ,       1.  ],\n",
       "       [     20.  ,   58654.59,      12.  ,      52.  ,       1.  ],\n",
       "       [     25.  ,   54667.71,      12.  ,      24.  ,       1.  ],\n",
       "       [     27.  ,   50023.1 ,      12.  ,      28.  ,       0.  ],\n",
       "       [     35.  ,  204657.85,      12.  ,      52.  ,       0.  ],\n",
       "       [     43.  ,   26484.2 ,      12.  ,      24.  ,       0.  ],\n",
       "       [     42.  ,  792776.29,      12.  ,      28.  ,       1.  ],\n",
       "       [     19.  ,   75015.58,      12.  ,      24.  ,       0.  ],\n",
       "       [     34.  ,  166920.02,      12.  ,      28.  ,       0.  ],\n",
       "       [     30.  ,  105638.82,      12.  ,      52.  ,       0.  ],\n",
       "       [     31.  ,   51803.62,      12.  ,      52.  ,       1.  ],\n",
       "       [     18.  ,   26536.67,      12.  ,      24.  ,       0.  ],\n",
       "       [     25.  ,   64581.35,      12.  ,      28.  ,       0.  ],\n",
       "       [     64.  ,   36491.38,      12.  ,      52.  ,       0.  ],\n",
       "       [     27.  ,   95447.77,      12.  ,      52.  ,       1.  ],\n",
       "       [     38.  ,   43956.52,      12.  ,      24.  ,       1.  ],\n",
       "       [     24.  ,   51624.95,      12.  ,      52.  ,       0.  ],\n",
       "       [     39.  ,   89270.66,      12.  ,      28.  ,       1.  ],\n",
       "       [     35.  ,   65301.33,      12.  ,      24.  ,       1.  ],\n",
       "       [     39.  ,   78807.94,      12.  ,      20.  ,       0.  ],\n",
       "       [     25.  ,   67715.64,      12.  ,      52.  ,       0.  ],\n",
       "       [     24.  ,   38285.3 ,       8.  ,       8.  ,       1.  ],\n",
       "       [     40.  ,  151094.12,      12.  ,      52.  ,       0.  ]])"
      ]
     },
     "execution_count": 31,
     "metadata": {},
     "output_type": "execute_result"
    }
   ],
   "source": [
    "X_train"
   ]
  },
  {
   "cell_type": "code",
   "execution_count": 32,
   "metadata": {},
   "outputs": [],
   "source": [
    "scaler = StandardScaler()"
   ]
  },
  {
   "cell_type": "code",
   "execution_count": 33,
   "metadata": {},
   "outputs": [],
   "source": [
    "X_train_scaled = scaler.fit_transform(X_train)"
   ]
  },
  {
   "cell_type": "code",
   "execution_count": 34,
   "metadata": {},
   "outputs": [],
   "source": [
    "X_test_scaled = scaler.transform(X_test)"
   ]
  },
  {
   "cell_type": "code",
   "execution_count": 35,
   "metadata": {},
   "outputs": [
    {
     "data": {
      "text/plain": [
       "array([[-0.18982307, -0.18390253,  0.19738551, -0.50337646,  0.90453403],\n",
       "       [ 0.34931937,  0.0413495 ,  0.19738551,  1.15155984,  0.90453403],\n",
       "       [-0.36953721, -0.5435271 , -5.06622805, -1.88249003, -1.1055416 ],\n",
       "       [-1.17825087, -0.21574179,  0.19738551, -0.50337646,  0.90453403],\n",
       "       [ 1.06817596,  0.9956581 ,  0.19738551,  1.15155984, -1.1055416 ],\n",
       "       [ 1.69717547,  0.17348067,  0.19738551, -0.50337646, -1.1055416 ],\n",
       "       [ 1.15803303, -0.40296863,  0.19738551, -0.77919917,  0.90453403],\n",
       "       [-0.90867965, -0.40318946,  0.19738551, -0.50337646,  0.90453403],\n",
       "       [-0.45939429, -0.23117997,  0.19738551,  0.87573712, -1.1055416 ],\n",
       "       [ 0.61889059,  1.37013929,  0.19738551,  1.15155984,  0.90453403],\n",
       "       [-0.54925136, -0.53149824, -5.06622805, -1.88249003,  0.90453403],\n",
       "       [-0.90867965, -0.27173445,  0.19738551, -0.50337646,  0.90453403],\n",
       "       [ 0.79860474,  0.07098292,  0.19738551,  1.15155984,  0.90453403],\n",
       "       [-0.63910843, -0.4915554 ,  0.19738551, -0.50337646,  0.90453403],\n",
       "       [ 1.96674669, -0.35863004,  0.19738551,  1.15155984, -1.1055416 ],\n",
       "       [-0.09996599, -0.49860125,  0.19738551, -0.77919917,  0.90453403],\n",
       "       [-0.99853673, -0.43862281,  0.19738551, -0.77919917,  0.90453403],\n",
       "       [-0.45939429, -0.37032236,  0.19738551, -0.77919917,  0.90453403],\n",
       "       [-0.81882258, -0.14449507,  0.19738551,  1.42738255,  0.90453403],\n",
       "       [ 0.79860474,  4.83992341,  0.19738551, -0.50337646, -1.1055416 ],\n",
       "       [-0.81882258,  0.56236018,  0.19738551, -0.77919917,  0.90453403],\n",
       "       [ 0.2594623 , -0.15173715,  0.19738551,  1.15155984, -1.1055416 ],\n",
       "       [-1.17825087, -0.37980534,  0.19738551,  1.15155984, -1.1055416 ],\n",
       "       [-0.99853673, -0.38898431,  0.19738551, -1.3308446 ,  0.90453403],\n",
       "       [ 0.61889059, -0.50832633,  0.19738551,  1.15155984,  0.90453403],\n",
       "       [ 0.79860474,  0.55274517,  0.19738551, -1.3308446 ,  0.90453403],\n",
       "       [-0.45939429, -0.48058696,  0.19738551,  1.42738255, -1.1055416 ],\n",
       "       [-0.45939429, -0.48853481,  0.19738551, -0.77919917, -1.1055416 ],\n",
       "       [-1.0883938 , -0.15374034,  0.19738551,  1.15155984,  0.90453403],\n",
       "       [ 0.97831888, -0.48598132,  0.19738551, -0.77919917,  0.90453403],\n",
       "       [ 4.21317352,  1.95830461,  0.19738551,  0.87573712,  0.90453403],\n",
       "       [-1.0883938 , -0.37409065,  0.19738551, -0.50337646, -1.1055416 ],\n",
       "       [ 0.79860474, -0.39699248,  0.19738551,  1.15155984, -1.1055416 ],\n",
       "       [-0.63910843, -0.51629322,  0.19738551, -1.60666732, -1.1055416 ],\n",
       "       [-0.45939429, -0.29125196,  0.19738551,  1.42738255,  0.90453403],\n",
       "       [ 1.06817596, -0.31351748,  0.19738551,  1.42738255, -1.1055416 ],\n",
       "       [ 0.34931937, -0.37544419,  0.19738551,  1.15155984, -1.1055416 ],\n",
       "       [-1.0883938 , -0.23274798,  0.19738551, -0.50337646,  0.90453403],\n",
       "       [-0.90867965, -0.40869156,  0.19738551, -0.50337646, -1.1055416 ],\n",
       "       [ 0.52903352, -0.44206738,  0.19738551,  1.15155984,  0.90453403],\n",
       "       [-0.81882258, -0.45289808,  0.19738551, -0.77919917,  0.90453403],\n",
       "       [ 1.33774718,  5.5623082 ,  0.19738551, -0.77919917,  0.90453403],\n",
       "       [ 0.88846181, -0.46961724,  0.19738551, -0.77919917, -1.1055416 ],\n",
       "       [ 1.15803303, -0.3514756 ,  0.19738551,  0.87573712,  0.90453403],\n",
       "       [ 0.61889059,  0.95559216,  0.19738551, -0.50337646,  0.90453403],\n",
       "       [ 0.97831888,  0.47191977,  0.19738551, -0.50337646,  0.90453403],\n",
       "       [-0.81882258, -0.40661756,  0.19738551, -0.77919917,  0.90453403],\n",
       "       [-0.99853673, -0.43380592,  0.19738551, -0.77919917,  0.90453403],\n",
       "       [-0.90867965, -0.47313535,  0.19738551, -0.50337646, -1.1055416 ],\n",
       "       [-0.72896551, -0.16479491,  0.19738551, -0.50337646,  0.90453403],\n",
       "       [-0.72896551, -0.0125962 ,  0.19738551,  1.42738255, -1.1055416 ],\n",
       "       [-0.90867965, -0.3151516 ,  0.19738551,  1.15155984, -1.1055416 ],\n",
       "       [-0.01010892, -0.4001779 ,  0.19738551, -0.77919917,  0.90453403],\n",
       "       [ 0.2594623 , -0.36459752,  0.19738551, -0.50337646, -1.1055416 ],\n",
       "       [-0.90867965,  1.22050344,  0.19738551,  1.15155984,  0.90453403],\n",
       "       [-0.99853673, -0.29898869,  0.19738551,  1.15155984, -1.1055416 ],\n",
       "       [ 0.61889059, -0.0982395 ,  0.19738551, -0.77919917, -1.1055416 ],\n",
       "       [-1.0883938 ,  0.76523009,  0.19738551, -0.77919917,  0.90453403],\n",
       "       [-0.99853673, -0.36907744,  0.19738551,  1.15155984,  0.90453403],\n",
       "       [-0.54925136, -0.38457283,  0.19738551, -0.77919917,  0.90453403],\n",
       "       [-0.36953721, -0.40262455,  0.19738551, -0.50337646, -1.1055416 ],\n",
       "       [ 0.34931937,  0.19837808,  0.19738551,  1.15155984, -1.1055416 ],\n",
       "       [ 1.06817596, -0.49411072,  0.19738551, -0.77919917, -1.1055416 ],\n",
       "       [ 0.97831888,  2.48415619,  0.19738551, -0.50337646,  0.90453403],\n",
       "       [-1.0883938 , -0.3054889 ,  0.19738551, -0.77919917, -1.1055416 ],\n",
       "       [ 0.2594623 ,  0.05170642,  0.19738551, -0.50337646, -1.1055416 ],\n",
       "       [-0.09996599, -0.18646878,  0.19738551,  1.15155984, -1.1055416 ],\n",
       "       [-0.01010892, -0.39570439,  0.19738551,  1.15155984,  0.90453403],\n",
       "       [-1.17825087, -0.49390679,  0.19738551, -0.77919917, -1.1055416 ],\n",
       "       [-0.54925136, -0.34604253,  0.19738551, -0.50337646, -1.1055416 ],\n",
       "       [ 2.95517449, -0.45521686,  0.19738551,  1.15155984, -1.1055416 ],\n",
       "       [-0.36953721, -0.22607726,  0.19738551,  1.15155984,  0.90453403],\n",
       "       [ 0.61889059, -0.42620289,  0.19738551, -0.77919917,  0.90453403],\n",
       "       [-0.63910843, -0.39639881,  0.19738551,  1.15155984, -1.1055416 ],\n",
       "       [ 0.70874766, -0.25008518,  0.19738551, -0.50337646,  0.90453403],\n",
       "       [ 0.34931937, -0.34324426,  0.19738551, -0.77919917,  0.90453403],\n",
       "       [ 0.70874766, -0.29074954,  0.19738551, -1.05502189, -1.1055416 ],\n",
       "       [-0.54925136, -0.33386081,  0.19738551,  1.15155984, -1.1055416 ],\n",
       "       [-0.63910843, -0.44824462, -5.06622805, -1.88249003,  0.90453403],\n",
       "       [ 0.79860474, -0.00980244,  0.19738551,  1.15155984, -1.1055416 ]])"
      ]
     },
     "execution_count": 35,
     "metadata": {},
     "output_type": "execute_result"
    }
   ],
   "source": [
    "X_train_scaled"
   ]
  },
  {
   "cell_type": "code",
   "execution_count": 36,
   "metadata": {},
   "outputs": [
    {
     "data": {
      "text/plain": [
       "array([[ 0.61889059, -0.23597265,  0.19738551, -0.77919917,  0.90453403],\n",
       "       [ 0.34931937, -0.38443136,  0.19738551,  0.87573712, -1.1055416 ],\n",
       "       [ 1.87688962, -0.25930656,  0.19738551, -0.50337646,  0.90453403],\n",
       "       [ 3.40445986, -0.23060312,  0.19738551,  1.42738255,  0.90453403],\n",
       "       [ 0.52903352, -0.3171104 ,  0.19738551,  0.87573712,  0.90453403],\n",
       "       [-0.09996599, -0.3194005 ,  0.19738551,  1.42738255, -1.1055416 ],\n",
       "       [-1.17825087, -0.52912023,  0.19738551, -0.77919917, -1.1055416 ],\n",
       "       [-0.27968014,  0.35284733,  0.19738551, -0.77919917,  0.90453403],\n",
       "       [-0.81882258, -0.36725832,  0.19738551, -0.50337646,  0.90453403],\n",
       "       [-0.27968014, -0.25436564,  0.19738551, -0.50337646,  0.90453403],\n",
       "       [-0.72896551, -0.33761192,  0.19738551,  1.15155984,  0.90453403],\n",
       "       [-0.27968014, -0.46081768,  0.19738551, -0.77919917,  0.90453403],\n",
       "       [ 1.42760425, -0.30197255,  0.19738551,  1.15155984, -1.1055416 ],\n",
       "       [ 1.06817596,  0.11532034,  0.19738551,  1.15155984,  0.90453403],\n",
       "       [ 0.16960523,  0.88558398,  0.19738551, -0.77919917,  0.90453403],\n",
       "       [ 0.97831888, -0.18734198,  0.19738551, -0.77919917,  0.90453403],\n",
       "       [-1.0883938 , -0.25155268,  0.19738551, -0.50337646, -1.1055416 ],\n",
       "       [-0.99853673, -0.21638028,  0.19738551,  1.42738255, -1.1055416 ],\n",
       "       [-0.09996599, -0.54212812, -5.06622805, -1.88249003, -1.1055416 ],\n",
       "       [ 1.33774718, -0.11951343,  0.19738551, -0.77919917, -1.1055416 ]])"
      ]
     },
     "execution_count": 36,
     "metadata": {},
     "output_type": "execute_result"
    }
   ],
   "source": [
    "X_test_scaled"
   ]
  },
  {
   "cell_type": "markdown",
   "metadata": {},
   "source": [
    "### Model Training"
   ]
  },
  {
   "cell_type": "markdown",
   "metadata": {},
   "source": [
    "### Using PyCaret"
   ]
  },
  {
   "cell_type": "code",
   "execution_count": 37,
   "metadata": {},
   "outputs": [
    {
     "name": "stdout",
     "output_type": "stream",
     "text": [
      " \n",
      "Setup Succesfully Completed.\n"
     ]
    },
    {
     "data": {
      "text/html": [
       "<style  type=\"text/css\" >\n",
       "    #T_23ad6f2c_fce0_11ea_a88f_3c528213d836row15_col1 {\n",
       "            background-color:  yellow;\n",
       "        }</style><table id=\"T_23ad6f2c_fce0_11ea_a88f_3c528213d836\" ><thead>    <tr>        <th class=\"blank level0\" ></th>        <th class=\"col_heading level0 col0\" >Description</th>        <th class=\"col_heading level0 col1\" >Value</th>    </tr></thead><tbody>\n",
       "                <tr>\n",
       "                        <th id=\"T_23ad6f2c_fce0_11ea_a88f_3c528213d836level0_row0\" class=\"row_heading level0 row0\" >0</th>\n",
       "                        <td id=\"T_23ad6f2c_fce0_11ea_a88f_3c528213d836row0_col0\" class=\"data row0 col0\" >session_id</td>\n",
       "                        <td id=\"T_23ad6f2c_fce0_11ea_a88f_3c528213d836row0_col1\" class=\"data row0 col1\" >0</td>\n",
       "            </tr>\n",
       "            <tr>\n",
       "                        <th id=\"T_23ad6f2c_fce0_11ea_a88f_3c528213d836level0_row1\" class=\"row_heading level0 row1\" >1</th>\n",
       "                        <td id=\"T_23ad6f2c_fce0_11ea_a88f_3c528213d836row1_col0\" class=\"data row1 col0\" >Transform Target </td>\n",
       "                        <td id=\"T_23ad6f2c_fce0_11ea_a88f_3c528213d836row1_col1\" class=\"data row1 col1\" >False</td>\n",
       "            </tr>\n",
       "            <tr>\n",
       "                        <th id=\"T_23ad6f2c_fce0_11ea_a88f_3c528213d836level0_row2\" class=\"row_heading level0 row2\" >2</th>\n",
       "                        <td id=\"T_23ad6f2c_fce0_11ea_a88f_3c528213d836row2_col0\" class=\"data row2 col0\" >Transform Target Method</td>\n",
       "                        <td id=\"T_23ad6f2c_fce0_11ea_a88f_3c528213d836row2_col1\" class=\"data row2 col1\" >None</td>\n",
       "            </tr>\n",
       "            <tr>\n",
       "                        <th id=\"T_23ad6f2c_fce0_11ea_a88f_3c528213d836level0_row3\" class=\"row_heading level0 row3\" >3</th>\n",
       "                        <td id=\"T_23ad6f2c_fce0_11ea_a88f_3c528213d836row3_col0\" class=\"data row3 col0\" >Original Data</td>\n",
       "                        <td id=\"T_23ad6f2c_fce0_11ea_a88f_3c528213d836row3_col1\" class=\"data row3 col1\" >(100, 6)</td>\n",
       "            </tr>\n",
       "            <tr>\n",
       "                        <th id=\"T_23ad6f2c_fce0_11ea_a88f_3c528213d836level0_row4\" class=\"row_heading level0 row4\" >4</th>\n",
       "                        <td id=\"T_23ad6f2c_fce0_11ea_a88f_3c528213d836row4_col0\" class=\"data row4 col0\" >Missing Values </td>\n",
       "                        <td id=\"T_23ad6f2c_fce0_11ea_a88f_3c528213d836row4_col1\" class=\"data row4 col1\" >False</td>\n",
       "            </tr>\n",
       "            <tr>\n",
       "                        <th id=\"T_23ad6f2c_fce0_11ea_a88f_3c528213d836level0_row5\" class=\"row_heading level0 row5\" >5</th>\n",
       "                        <td id=\"T_23ad6f2c_fce0_11ea_a88f_3c528213d836row5_col0\" class=\"data row5 col0\" >Numeric Features </td>\n",
       "                        <td id=\"T_23ad6f2c_fce0_11ea_a88f_3c528213d836row5_col1\" class=\"data row5 col1\" >4</td>\n",
       "            </tr>\n",
       "            <tr>\n",
       "                        <th id=\"T_23ad6f2c_fce0_11ea_a88f_3c528213d836level0_row6\" class=\"row_heading level0 row6\" >6</th>\n",
       "                        <td id=\"T_23ad6f2c_fce0_11ea_a88f_3c528213d836row6_col0\" class=\"data row6 col0\" >Categorical Features </td>\n",
       "                        <td id=\"T_23ad6f2c_fce0_11ea_a88f_3c528213d836row6_col1\" class=\"data row6 col1\" >1</td>\n",
       "            </tr>\n",
       "            <tr>\n",
       "                        <th id=\"T_23ad6f2c_fce0_11ea_a88f_3c528213d836level0_row7\" class=\"row_heading level0 row7\" >7</th>\n",
       "                        <td id=\"T_23ad6f2c_fce0_11ea_a88f_3c528213d836row7_col0\" class=\"data row7 col0\" >Ordinal Features </td>\n",
       "                        <td id=\"T_23ad6f2c_fce0_11ea_a88f_3c528213d836row7_col1\" class=\"data row7 col1\" >False</td>\n",
       "            </tr>\n",
       "            <tr>\n",
       "                        <th id=\"T_23ad6f2c_fce0_11ea_a88f_3c528213d836level0_row8\" class=\"row_heading level0 row8\" >8</th>\n",
       "                        <td id=\"T_23ad6f2c_fce0_11ea_a88f_3c528213d836row8_col0\" class=\"data row8 col0\" >High Cardinality Features </td>\n",
       "                        <td id=\"T_23ad6f2c_fce0_11ea_a88f_3c528213d836row8_col1\" class=\"data row8 col1\" >False</td>\n",
       "            </tr>\n",
       "            <tr>\n",
       "                        <th id=\"T_23ad6f2c_fce0_11ea_a88f_3c528213d836level0_row9\" class=\"row_heading level0 row9\" >9</th>\n",
       "                        <td id=\"T_23ad6f2c_fce0_11ea_a88f_3c528213d836row9_col0\" class=\"data row9 col0\" >High Cardinality Method </td>\n",
       "                        <td id=\"T_23ad6f2c_fce0_11ea_a88f_3c528213d836row9_col1\" class=\"data row9 col1\" >None</td>\n",
       "            </tr>\n",
       "            <tr>\n",
       "                        <th id=\"T_23ad6f2c_fce0_11ea_a88f_3c528213d836level0_row10\" class=\"row_heading level0 row10\" >10</th>\n",
       "                        <td id=\"T_23ad6f2c_fce0_11ea_a88f_3c528213d836row10_col0\" class=\"data row10 col0\" >Sampled Data</td>\n",
       "                        <td id=\"T_23ad6f2c_fce0_11ea_a88f_3c528213d836row10_col1\" class=\"data row10 col1\" >(100, 6)</td>\n",
       "            </tr>\n",
       "            <tr>\n",
       "                        <th id=\"T_23ad6f2c_fce0_11ea_a88f_3c528213d836level0_row11\" class=\"row_heading level0 row11\" >11</th>\n",
       "                        <td id=\"T_23ad6f2c_fce0_11ea_a88f_3c528213d836row11_col0\" class=\"data row11 col0\" >Transformed Train Set</td>\n",
       "                        <td id=\"T_23ad6f2c_fce0_11ea_a88f_3c528213d836row11_col1\" class=\"data row11 col1\" >(80, 6)</td>\n",
       "            </tr>\n",
       "            <tr>\n",
       "                        <th id=\"T_23ad6f2c_fce0_11ea_a88f_3c528213d836level0_row12\" class=\"row_heading level0 row12\" >12</th>\n",
       "                        <td id=\"T_23ad6f2c_fce0_11ea_a88f_3c528213d836row12_col0\" class=\"data row12 col0\" >Transformed Test Set</td>\n",
       "                        <td id=\"T_23ad6f2c_fce0_11ea_a88f_3c528213d836row12_col1\" class=\"data row12 col1\" >(20, 6)</td>\n",
       "            </tr>\n",
       "            <tr>\n",
       "                        <th id=\"T_23ad6f2c_fce0_11ea_a88f_3c528213d836level0_row13\" class=\"row_heading level0 row13\" >13</th>\n",
       "                        <td id=\"T_23ad6f2c_fce0_11ea_a88f_3c528213d836row13_col0\" class=\"data row13 col0\" >Numeric Imputer </td>\n",
       "                        <td id=\"T_23ad6f2c_fce0_11ea_a88f_3c528213d836row13_col1\" class=\"data row13 col1\" >mean</td>\n",
       "            </tr>\n",
       "            <tr>\n",
       "                        <th id=\"T_23ad6f2c_fce0_11ea_a88f_3c528213d836level0_row14\" class=\"row_heading level0 row14\" >14</th>\n",
       "                        <td id=\"T_23ad6f2c_fce0_11ea_a88f_3c528213d836row14_col0\" class=\"data row14 col0\" >Categorical Imputer </td>\n",
       "                        <td id=\"T_23ad6f2c_fce0_11ea_a88f_3c528213d836row14_col1\" class=\"data row14 col1\" >constant</td>\n",
       "            </tr>\n",
       "            <tr>\n",
       "                        <th id=\"T_23ad6f2c_fce0_11ea_a88f_3c528213d836level0_row15\" class=\"row_heading level0 row15\" >15</th>\n",
       "                        <td id=\"T_23ad6f2c_fce0_11ea_a88f_3c528213d836row15_col0\" class=\"data row15 col0\" >Normalize </td>\n",
       "                        <td id=\"T_23ad6f2c_fce0_11ea_a88f_3c528213d836row15_col1\" class=\"data row15 col1\" >True</td>\n",
       "            </tr>\n",
       "            <tr>\n",
       "                        <th id=\"T_23ad6f2c_fce0_11ea_a88f_3c528213d836level0_row16\" class=\"row_heading level0 row16\" >16</th>\n",
       "                        <td id=\"T_23ad6f2c_fce0_11ea_a88f_3c528213d836row16_col0\" class=\"data row16 col0\" >Normalize Method </td>\n",
       "                        <td id=\"T_23ad6f2c_fce0_11ea_a88f_3c528213d836row16_col1\" class=\"data row16 col1\" >zscore</td>\n",
       "            </tr>\n",
       "            <tr>\n",
       "                        <th id=\"T_23ad6f2c_fce0_11ea_a88f_3c528213d836level0_row17\" class=\"row_heading level0 row17\" >17</th>\n",
       "                        <td id=\"T_23ad6f2c_fce0_11ea_a88f_3c528213d836row17_col0\" class=\"data row17 col0\" >Transformation </td>\n",
       "                        <td id=\"T_23ad6f2c_fce0_11ea_a88f_3c528213d836row17_col1\" class=\"data row17 col1\" >False</td>\n",
       "            </tr>\n",
       "            <tr>\n",
       "                        <th id=\"T_23ad6f2c_fce0_11ea_a88f_3c528213d836level0_row18\" class=\"row_heading level0 row18\" >18</th>\n",
       "                        <td id=\"T_23ad6f2c_fce0_11ea_a88f_3c528213d836row18_col0\" class=\"data row18 col0\" >Transformation Method </td>\n",
       "                        <td id=\"T_23ad6f2c_fce0_11ea_a88f_3c528213d836row18_col1\" class=\"data row18 col1\" >None</td>\n",
       "            </tr>\n",
       "            <tr>\n",
       "                        <th id=\"T_23ad6f2c_fce0_11ea_a88f_3c528213d836level0_row19\" class=\"row_heading level0 row19\" >19</th>\n",
       "                        <td id=\"T_23ad6f2c_fce0_11ea_a88f_3c528213d836row19_col0\" class=\"data row19 col0\" >PCA </td>\n",
       "                        <td id=\"T_23ad6f2c_fce0_11ea_a88f_3c528213d836row19_col1\" class=\"data row19 col1\" >False</td>\n",
       "            </tr>\n",
       "            <tr>\n",
       "                        <th id=\"T_23ad6f2c_fce0_11ea_a88f_3c528213d836level0_row20\" class=\"row_heading level0 row20\" >20</th>\n",
       "                        <td id=\"T_23ad6f2c_fce0_11ea_a88f_3c528213d836row20_col0\" class=\"data row20 col0\" >PCA Method </td>\n",
       "                        <td id=\"T_23ad6f2c_fce0_11ea_a88f_3c528213d836row20_col1\" class=\"data row20 col1\" >None</td>\n",
       "            </tr>\n",
       "            <tr>\n",
       "                        <th id=\"T_23ad6f2c_fce0_11ea_a88f_3c528213d836level0_row21\" class=\"row_heading level0 row21\" >21</th>\n",
       "                        <td id=\"T_23ad6f2c_fce0_11ea_a88f_3c528213d836row21_col0\" class=\"data row21 col0\" >PCA Components </td>\n",
       "                        <td id=\"T_23ad6f2c_fce0_11ea_a88f_3c528213d836row21_col1\" class=\"data row21 col1\" >None</td>\n",
       "            </tr>\n",
       "            <tr>\n",
       "                        <th id=\"T_23ad6f2c_fce0_11ea_a88f_3c528213d836level0_row22\" class=\"row_heading level0 row22\" >22</th>\n",
       "                        <td id=\"T_23ad6f2c_fce0_11ea_a88f_3c528213d836row22_col0\" class=\"data row22 col0\" >Ignore Low Variance </td>\n",
       "                        <td id=\"T_23ad6f2c_fce0_11ea_a88f_3c528213d836row22_col1\" class=\"data row22 col1\" >False</td>\n",
       "            </tr>\n",
       "            <tr>\n",
       "                        <th id=\"T_23ad6f2c_fce0_11ea_a88f_3c528213d836level0_row23\" class=\"row_heading level0 row23\" >23</th>\n",
       "                        <td id=\"T_23ad6f2c_fce0_11ea_a88f_3c528213d836row23_col0\" class=\"data row23 col0\" >Combine Rare Levels </td>\n",
       "                        <td id=\"T_23ad6f2c_fce0_11ea_a88f_3c528213d836row23_col1\" class=\"data row23 col1\" >False</td>\n",
       "            </tr>\n",
       "            <tr>\n",
       "                        <th id=\"T_23ad6f2c_fce0_11ea_a88f_3c528213d836level0_row24\" class=\"row_heading level0 row24\" >24</th>\n",
       "                        <td id=\"T_23ad6f2c_fce0_11ea_a88f_3c528213d836row24_col0\" class=\"data row24 col0\" >Rare Level Threshold </td>\n",
       "                        <td id=\"T_23ad6f2c_fce0_11ea_a88f_3c528213d836row24_col1\" class=\"data row24 col1\" >None</td>\n",
       "            </tr>\n",
       "            <tr>\n",
       "                        <th id=\"T_23ad6f2c_fce0_11ea_a88f_3c528213d836level0_row25\" class=\"row_heading level0 row25\" >25</th>\n",
       "                        <td id=\"T_23ad6f2c_fce0_11ea_a88f_3c528213d836row25_col0\" class=\"data row25 col0\" >Numeric Binning </td>\n",
       "                        <td id=\"T_23ad6f2c_fce0_11ea_a88f_3c528213d836row25_col1\" class=\"data row25 col1\" >False</td>\n",
       "            </tr>\n",
       "            <tr>\n",
       "                        <th id=\"T_23ad6f2c_fce0_11ea_a88f_3c528213d836level0_row26\" class=\"row_heading level0 row26\" >26</th>\n",
       "                        <td id=\"T_23ad6f2c_fce0_11ea_a88f_3c528213d836row26_col0\" class=\"data row26 col0\" >Remove Outliers </td>\n",
       "                        <td id=\"T_23ad6f2c_fce0_11ea_a88f_3c528213d836row26_col1\" class=\"data row26 col1\" >False</td>\n",
       "            </tr>\n",
       "            <tr>\n",
       "                        <th id=\"T_23ad6f2c_fce0_11ea_a88f_3c528213d836level0_row27\" class=\"row_heading level0 row27\" >27</th>\n",
       "                        <td id=\"T_23ad6f2c_fce0_11ea_a88f_3c528213d836row27_col0\" class=\"data row27 col0\" >Outliers Threshold </td>\n",
       "                        <td id=\"T_23ad6f2c_fce0_11ea_a88f_3c528213d836row27_col1\" class=\"data row27 col1\" >None</td>\n",
       "            </tr>\n",
       "            <tr>\n",
       "                        <th id=\"T_23ad6f2c_fce0_11ea_a88f_3c528213d836level0_row28\" class=\"row_heading level0 row28\" >28</th>\n",
       "                        <td id=\"T_23ad6f2c_fce0_11ea_a88f_3c528213d836row28_col0\" class=\"data row28 col0\" >Remove Multicollinearity </td>\n",
       "                        <td id=\"T_23ad6f2c_fce0_11ea_a88f_3c528213d836row28_col1\" class=\"data row28 col1\" >False</td>\n",
       "            </tr>\n",
       "            <tr>\n",
       "                        <th id=\"T_23ad6f2c_fce0_11ea_a88f_3c528213d836level0_row29\" class=\"row_heading level0 row29\" >29</th>\n",
       "                        <td id=\"T_23ad6f2c_fce0_11ea_a88f_3c528213d836row29_col0\" class=\"data row29 col0\" >Multicollinearity Threshold </td>\n",
       "                        <td id=\"T_23ad6f2c_fce0_11ea_a88f_3c528213d836row29_col1\" class=\"data row29 col1\" >None</td>\n",
       "            </tr>\n",
       "            <tr>\n",
       "                        <th id=\"T_23ad6f2c_fce0_11ea_a88f_3c528213d836level0_row30\" class=\"row_heading level0 row30\" >30</th>\n",
       "                        <td id=\"T_23ad6f2c_fce0_11ea_a88f_3c528213d836row30_col0\" class=\"data row30 col0\" >Clustering </td>\n",
       "                        <td id=\"T_23ad6f2c_fce0_11ea_a88f_3c528213d836row30_col1\" class=\"data row30 col1\" >False</td>\n",
       "            </tr>\n",
       "            <tr>\n",
       "                        <th id=\"T_23ad6f2c_fce0_11ea_a88f_3c528213d836level0_row31\" class=\"row_heading level0 row31\" >31</th>\n",
       "                        <td id=\"T_23ad6f2c_fce0_11ea_a88f_3c528213d836row31_col0\" class=\"data row31 col0\" >Clustering Iteration </td>\n",
       "                        <td id=\"T_23ad6f2c_fce0_11ea_a88f_3c528213d836row31_col1\" class=\"data row31 col1\" >None</td>\n",
       "            </tr>\n",
       "            <tr>\n",
       "                        <th id=\"T_23ad6f2c_fce0_11ea_a88f_3c528213d836level0_row32\" class=\"row_heading level0 row32\" >32</th>\n",
       "                        <td id=\"T_23ad6f2c_fce0_11ea_a88f_3c528213d836row32_col0\" class=\"data row32 col0\" >Polynomial Features </td>\n",
       "                        <td id=\"T_23ad6f2c_fce0_11ea_a88f_3c528213d836row32_col1\" class=\"data row32 col1\" >False</td>\n",
       "            </tr>\n",
       "            <tr>\n",
       "                        <th id=\"T_23ad6f2c_fce0_11ea_a88f_3c528213d836level0_row33\" class=\"row_heading level0 row33\" >33</th>\n",
       "                        <td id=\"T_23ad6f2c_fce0_11ea_a88f_3c528213d836row33_col0\" class=\"data row33 col0\" >Polynomial Degree </td>\n",
       "                        <td id=\"T_23ad6f2c_fce0_11ea_a88f_3c528213d836row33_col1\" class=\"data row33 col1\" >None</td>\n",
       "            </tr>\n",
       "            <tr>\n",
       "                        <th id=\"T_23ad6f2c_fce0_11ea_a88f_3c528213d836level0_row34\" class=\"row_heading level0 row34\" >34</th>\n",
       "                        <td id=\"T_23ad6f2c_fce0_11ea_a88f_3c528213d836row34_col0\" class=\"data row34 col0\" >Trignometry Features </td>\n",
       "                        <td id=\"T_23ad6f2c_fce0_11ea_a88f_3c528213d836row34_col1\" class=\"data row34 col1\" >False</td>\n",
       "            </tr>\n",
       "            <tr>\n",
       "                        <th id=\"T_23ad6f2c_fce0_11ea_a88f_3c528213d836level0_row35\" class=\"row_heading level0 row35\" >35</th>\n",
       "                        <td id=\"T_23ad6f2c_fce0_11ea_a88f_3c528213d836row35_col0\" class=\"data row35 col0\" >Polynomial Threshold </td>\n",
       "                        <td id=\"T_23ad6f2c_fce0_11ea_a88f_3c528213d836row35_col1\" class=\"data row35 col1\" >None</td>\n",
       "            </tr>\n",
       "            <tr>\n",
       "                        <th id=\"T_23ad6f2c_fce0_11ea_a88f_3c528213d836level0_row36\" class=\"row_heading level0 row36\" >36</th>\n",
       "                        <td id=\"T_23ad6f2c_fce0_11ea_a88f_3c528213d836row36_col0\" class=\"data row36 col0\" >Group Features </td>\n",
       "                        <td id=\"T_23ad6f2c_fce0_11ea_a88f_3c528213d836row36_col1\" class=\"data row36 col1\" >False</td>\n",
       "            </tr>\n",
       "            <tr>\n",
       "                        <th id=\"T_23ad6f2c_fce0_11ea_a88f_3c528213d836level0_row37\" class=\"row_heading level0 row37\" >37</th>\n",
       "                        <td id=\"T_23ad6f2c_fce0_11ea_a88f_3c528213d836row37_col0\" class=\"data row37 col0\" >Feature Selection </td>\n",
       "                        <td id=\"T_23ad6f2c_fce0_11ea_a88f_3c528213d836row37_col1\" class=\"data row37 col1\" >False</td>\n",
       "            </tr>\n",
       "            <tr>\n",
       "                        <th id=\"T_23ad6f2c_fce0_11ea_a88f_3c528213d836level0_row38\" class=\"row_heading level0 row38\" >38</th>\n",
       "                        <td id=\"T_23ad6f2c_fce0_11ea_a88f_3c528213d836row38_col0\" class=\"data row38 col0\" >Features Selection Threshold </td>\n",
       "                        <td id=\"T_23ad6f2c_fce0_11ea_a88f_3c528213d836row38_col1\" class=\"data row38 col1\" >None</td>\n",
       "            </tr>\n",
       "            <tr>\n",
       "                        <th id=\"T_23ad6f2c_fce0_11ea_a88f_3c528213d836level0_row39\" class=\"row_heading level0 row39\" >39</th>\n",
       "                        <td id=\"T_23ad6f2c_fce0_11ea_a88f_3c528213d836row39_col0\" class=\"data row39 col0\" >Feature Interaction </td>\n",
       "                        <td id=\"T_23ad6f2c_fce0_11ea_a88f_3c528213d836row39_col1\" class=\"data row39 col1\" >False</td>\n",
       "            </tr>\n",
       "            <tr>\n",
       "                        <th id=\"T_23ad6f2c_fce0_11ea_a88f_3c528213d836level0_row40\" class=\"row_heading level0 row40\" >40</th>\n",
       "                        <td id=\"T_23ad6f2c_fce0_11ea_a88f_3c528213d836row40_col0\" class=\"data row40 col0\" >Feature Ratio </td>\n",
       "                        <td id=\"T_23ad6f2c_fce0_11ea_a88f_3c528213d836row40_col1\" class=\"data row40 col1\" >False</td>\n",
       "            </tr>\n",
       "            <tr>\n",
       "                        <th id=\"T_23ad6f2c_fce0_11ea_a88f_3c528213d836level0_row41\" class=\"row_heading level0 row41\" >41</th>\n",
       "                        <td id=\"T_23ad6f2c_fce0_11ea_a88f_3c528213d836row41_col0\" class=\"data row41 col0\" >Interaction Threshold </td>\n",
       "                        <td id=\"T_23ad6f2c_fce0_11ea_a88f_3c528213d836row41_col1\" class=\"data row41 col1\" >None</td>\n",
       "            </tr>\n",
       "    </tbody></table>"
      ],
      "text/plain": [
       "<pandas.io.formats.style.Styler at 0x213f10f5130>"
      ]
     },
     "metadata": {},
     "output_type": "display_data"
    }
   ],
   "source": [
    "exp_reg = setup(data = df2, target = 'annual', session_id=0, normalize=True, train_size=0.8,\n",
    "       numeric_features=['months','weekspayment'],categorical_features=['gender_M']) "
   ]
  },
  {
   "cell_type": "code",
   "execution_count": 38,
   "metadata": {},
   "outputs": [
    {
     "data": {
      "text/html": [
       "<style  type=\"text/css\" >\n",
       "    #T_34f1f055_fce0_11ea_a3d2_3c528213d836 th {\n",
       "          text-align: left;\n",
       "    }    #T_34f1f055_fce0_11ea_a3d2_3c528213d836row0_col0 {\n",
       "            text-align:  left;\n",
       "        }    #T_34f1f055_fce0_11ea_a3d2_3c528213d836row0_col1 {\n",
       "            background-color:  yellow;\n",
       "            text-align:  left;\n",
       "        }    #T_34f1f055_fce0_11ea_a3d2_3c528213d836row0_col2 {\n",
       "            : ;\n",
       "            text-align:  left;\n",
       "        }    #T_34f1f055_fce0_11ea_a3d2_3c528213d836row0_col3 {\n",
       "            background-color:  yellow;\n",
       "            text-align:  left;\n",
       "        }    #T_34f1f055_fce0_11ea_a3d2_3c528213d836row0_col4 {\n",
       "            background-color:  yellow;\n",
       "            text-align:  left;\n",
       "        }    #T_34f1f055_fce0_11ea_a3d2_3c528213d836row0_col5 {\n",
       "            background-color:  yellow;\n",
       "            text-align:  left;\n",
       "        }    #T_34f1f055_fce0_11ea_a3d2_3c528213d836row0_col6 {\n",
       "            background-color:  yellow;\n",
       "            text-align:  left;\n",
       "        }    #T_34f1f055_fce0_11ea_a3d2_3c528213d836row0_col7 {\n",
       "            background-color:  lightgrey;\n",
       "            text-align:  left;\n",
       "        }    #T_34f1f055_fce0_11ea_a3d2_3c528213d836row1_col0 {\n",
       "            text-align:  left;\n",
       "        }    #T_34f1f055_fce0_11ea_a3d2_3c528213d836row1_col1 {\n",
       "            : ;\n",
       "            text-align:  left;\n",
       "        }    #T_34f1f055_fce0_11ea_a3d2_3c528213d836row1_col2 {\n",
       "            : ;\n",
       "            text-align:  left;\n",
       "        }    #T_34f1f055_fce0_11ea_a3d2_3c528213d836row1_col3 {\n",
       "            : ;\n",
       "            text-align:  left;\n",
       "        }    #T_34f1f055_fce0_11ea_a3d2_3c528213d836row1_col4 {\n",
       "            : ;\n",
       "            text-align:  left;\n",
       "        }    #T_34f1f055_fce0_11ea_a3d2_3c528213d836row1_col5 {\n",
       "            : ;\n",
       "            text-align:  left;\n",
       "        }    #T_34f1f055_fce0_11ea_a3d2_3c528213d836row1_col6 {\n",
       "            : ;\n",
       "            text-align:  left;\n",
       "        }    #T_34f1f055_fce0_11ea_a3d2_3c528213d836row1_col7 {\n",
       "            background-color:  lightgrey;\n",
       "            text-align:  left;\n",
       "        }    #T_34f1f055_fce0_11ea_a3d2_3c528213d836row2_col0 {\n",
       "            text-align:  left;\n",
       "        }    #T_34f1f055_fce0_11ea_a3d2_3c528213d836row2_col1 {\n",
       "            : ;\n",
       "            text-align:  left;\n",
       "        }    #T_34f1f055_fce0_11ea_a3d2_3c528213d836row2_col2 {\n",
       "            : ;\n",
       "            text-align:  left;\n",
       "        }    #T_34f1f055_fce0_11ea_a3d2_3c528213d836row2_col3 {\n",
       "            : ;\n",
       "            text-align:  left;\n",
       "        }    #T_34f1f055_fce0_11ea_a3d2_3c528213d836row2_col4 {\n",
       "            : ;\n",
       "            text-align:  left;\n",
       "        }    #T_34f1f055_fce0_11ea_a3d2_3c528213d836row2_col5 {\n",
       "            : ;\n",
       "            text-align:  left;\n",
       "        }    #T_34f1f055_fce0_11ea_a3d2_3c528213d836row2_col6 {\n",
       "            : ;\n",
       "            text-align:  left;\n",
       "        }    #T_34f1f055_fce0_11ea_a3d2_3c528213d836row2_col7 {\n",
       "            background-color:  lightgrey;\n",
       "            text-align:  left;\n",
       "        }    #T_34f1f055_fce0_11ea_a3d2_3c528213d836row3_col0 {\n",
       "            text-align:  left;\n",
       "        }    #T_34f1f055_fce0_11ea_a3d2_3c528213d836row3_col1 {\n",
       "            : ;\n",
       "            text-align:  left;\n",
       "        }    #T_34f1f055_fce0_11ea_a3d2_3c528213d836row3_col2 {\n",
       "            background-color:  yellow;\n",
       "            text-align:  left;\n",
       "        }    #T_34f1f055_fce0_11ea_a3d2_3c528213d836row3_col3 {\n",
       "            : ;\n",
       "            text-align:  left;\n",
       "        }    #T_34f1f055_fce0_11ea_a3d2_3c528213d836row3_col4 {\n",
       "            : ;\n",
       "            text-align:  left;\n",
       "        }    #T_34f1f055_fce0_11ea_a3d2_3c528213d836row3_col5 {\n",
       "            : ;\n",
       "            text-align:  left;\n",
       "        }    #T_34f1f055_fce0_11ea_a3d2_3c528213d836row3_col6 {\n",
       "            : ;\n",
       "            text-align:  left;\n",
       "        }    #T_34f1f055_fce0_11ea_a3d2_3c528213d836row3_col7 {\n",
       "            background-color:  lightgrey;\n",
       "            text-align:  left;\n",
       "        }    #T_34f1f055_fce0_11ea_a3d2_3c528213d836row4_col0 {\n",
       "            text-align:  left;\n",
       "        }    #T_34f1f055_fce0_11ea_a3d2_3c528213d836row4_col1 {\n",
       "            : ;\n",
       "            text-align:  left;\n",
       "        }    #T_34f1f055_fce0_11ea_a3d2_3c528213d836row4_col2 {\n",
       "            : ;\n",
       "            text-align:  left;\n",
       "        }    #T_34f1f055_fce0_11ea_a3d2_3c528213d836row4_col3 {\n",
       "            : ;\n",
       "            text-align:  left;\n",
       "        }    #T_34f1f055_fce0_11ea_a3d2_3c528213d836row4_col4 {\n",
       "            : ;\n",
       "            text-align:  left;\n",
       "        }    #T_34f1f055_fce0_11ea_a3d2_3c528213d836row4_col5 {\n",
       "            : ;\n",
       "            text-align:  left;\n",
       "        }    #T_34f1f055_fce0_11ea_a3d2_3c528213d836row4_col6 {\n",
       "            : ;\n",
       "            text-align:  left;\n",
       "        }    #T_34f1f055_fce0_11ea_a3d2_3c528213d836row4_col7 {\n",
       "            background-color:  lightgrey;\n",
       "            text-align:  left;\n",
       "        }    #T_34f1f055_fce0_11ea_a3d2_3c528213d836row5_col0 {\n",
       "            text-align:  left;\n",
       "        }    #T_34f1f055_fce0_11ea_a3d2_3c528213d836row5_col1 {\n",
       "            : ;\n",
       "            text-align:  left;\n",
       "        }    #T_34f1f055_fce0_11ea_a3d2_3c528213d836row5_col2 {\n",
       "            : ;\n",
       "            text-align:  left;\n",
       "        }    #T_34f1f055_fce0_11ea_a3d2_3c528213d836row5_col3 {\n",
       "            : ;\n",
       "            text-align:  left;\n",
       "        }    #T_34f1f055_fce0_11ea_a3d2_3c528213d836row5_col4 {\n",
       "            : ;\n",
       "            text-align:  left;\n",
       "        }    #T_34f1f055_fce0_11ea_a3d2_3c528213d836row5_col5 {\n",
       "            : ;\n",
       "            text-align:  left;\n",
       "        }    #T_34f1f055_fce0_11ea_a3d2_3c528213d836row5_col6 {\n",
       "            : ;\n",
       "            text-align:  left;\n",
       "        }    #T_34f1f055_fce0_11ea_a3d2_3c528213d836row5_col7 {\n",
       "            background-color:  lightgrey;\n",
       "            text-align:  left;\n",
       "        }    #T_34f1f055_fce0_11ea_a3d2_3c528213d836row6_col0 {\n",
       "            text-align:  left;\n",
       "        }    #T_34f1f055_fce0_11ea_a3d2_3c528213d836row6_col1 {\n",
       "            : ;\n",
       "            text-align:  left;\n",
       "        }    #T_34f1f055_fce0_11ea_a3d2_3c528213d836row6_col2 {\n",
       "            : ;\n",
       "            text-align:  left;\n",
       "        }    #T_34f1f055_fce0_11ea_a3d2_3c528213d836row6_col3 {\n",
       "            : ;\n",
       "            text-align:  left;\n",
       "        }    #T_34f1f055_fce0_11ea_a3d2_3c528213d836row6_col4 {\n",
       "            : ;\n",
       "            text-align:  left;\n",
       "        }    #T_34f1f055_fce0_11ea_a3d2_3c528213d836row6_col5 {\n",
       "            : ;\n",
       "            text-align:  left;\n",
       "        }    #T_34f1f055_fce0_11ea_a3d2_3c528213d836row6_col6 {\n",
       "            : ;\n",
       "            text-align:  left;\n",
       "        }    #T_34f1f055_fce0_11ea_a3d2_3c528213d836row6_col7 {\n",
       "            background-color:  lightgrey;\n",
       "            text-align:  left;\n",
       "        }    #T_34f1f055_fce0_11ea_a3d2_3c528213d836row7_col0 {\n",
       "            text-align:  left;\n",
       "        }    #T_34f1f055_fce0_11ea_a3d2_3c528213d836row7_col1 {\n",
       "            : ;\n",
       "            text-align:  left;\n",
       "        }    #T_34f1f055_fce0_11ea_a3d2_3c528213d836row7_col2 {\n",
       "            : ;\n",
       "            text-align:  left;\n",
       "        }    #T_34f1f055_fce0_11ea_a3d2_3c528213d836row7_col3 {\n",
       "            : ;\n",
       "            text-align:  left;\n",
       "        }    #T_34f1f055_fce0_11ea_a3d2_3c528213d836row7_col4 {\n",
       "            : ;\n",
       "            text-align:  left;\n",
       "        }    #T_34f1f055_fce0_11ea_a3d2_3c528213d836row7_col5 {\n",
       "            : ;\n",
       "            text-align:  left;\n",
       "        }    #T_34f1f055_fce0_11ea_a3d2_3c528213d836row7_col6 {\n",
       "            : ;\n",
       "            text-align:  left;\n",
       "        }    #T_34f1f055_fce0_11ea_a3d2_3c528213d836row7_col7 {\n",
       "            background-color:  lightgrey;\n",
       "            text-align:  left;\n",
       "        }    #T_34f1f055_fce0_11ea_a3d2_3c528213d836row8_col0 {\n",
       "            text-align:  left;\n",
       "        }    #T_34f1f055_fce0_11ea_a3d2_3c528213d836row8_col1 {\n",
       "            : ;\n",
       "            text-align:  left;\n",
       "        }    #T_34f1f055_fce0_11ea_a3d2_3c528213d836row8_col2 {\n",
       "            : ;\n",
       "            text-align:  left;\n",
       "        }    #T_34f1f055_fce0_11ea_a3d2_3c528213d836row8_col3 {\n",
       "            : ;\n",
       "            text-align:  left;\n",
       "        }    #T_34f1f055_fce0_11ea_a3d2_3c528213d836row8_col4 {\n",
       "            : ;\n",
       "            text-align:  left;\n",
       "        }    #T_34f1f055_fce0_11ea_a3d2_3c528213d836row8_col5 {\n",
       "            : ;\n",
       "            text-align:  left;\n",
       "        }    #T_34f1f055_fce0_11ea_a3d2_3c528213d836row8_col6 {\n",
       "            : ;\n",
       "            text-align:  left;\n",
       "        }    #T_34f1f055_fce0_11ea_a3d2_3c528213d836row8_col7 {\n",
       "            background-color:  lightgrey;\n",
       "            text-align:  left;\n",
       "        }    #T_34f1f055_fce0_11ea_a3d2_3c528213d836row9_col0 {\n",
       "            text-align:  left;\n",
       "        }    #T_34f1f055_fce0_11ea_a3d2_3c528213d836row9_col1 {\n",
       "            : ;\n",
       "            text-align:  left;\n",
       "        }    #T_34f1f055_fce0_11ea_a3d2_3c528213d836row9_col2 {\n",
       "            : ;\n",
       "            text-align:  left;\n",
       "        }    #T_34f1f055_fce0_11ea_a3d2_3c528213d836row9_col3 {\n",
       "            : ;\n",
       "            text-align:  left;\n",
       "        }    #T_34f1f055_fce0_11ea_a3d2_3c528213d836row9_col4 {\n",
       "            : ;\n",
       "            text-align:  left;\n",
       "        }    #T_34f1f055_fce0_11ea_a3d2_3c528213d836row9_col5 {\n",
       "            : ;\n",
       "            text-align:  left;\n",
       "        }    #T_34f1f055_fce0_11ea_a3d2_3c528213d836row9_col6 {\n",
       "            : ;\n",
       "            text-align:  left;\n",
       "        }    #T_34f1f055_fce0_11ea_a3d2_3c528213d836row9_col7 {\n",
       "            background-color:  lightgrey;\n",
       "            text-align:  left;\n",
       "        }    #T_34f1f055_fce0_11ea_a3d2_3c528213d836row10_col0 {\n",
       "            text-align:  left;\n",
       "        }    #T_34f1f055_fce0_11ea_a3d2_3c528213d836row10_col1 {\n",
       "            : ;\n",
       "            text-align:  left;\n",
       "        }    #T_34f1f055_fce0_11ea_a3d2_3c528213d836row10_col2 {\n",
       "            : ;\n",
       "            text-align:  left;\n",
       "        }    #T_34f1f055_fce0_11ea_a3d2_3c528213d836row10_col3 {\n",
       "            : ;\n",
       "            text-align:  left;\n",
       "        }    #T_34f1f055_fce0_11ea_a3d2_3c528213d836row10_col4 {\n",
       "            : ;\n",
       "            text-align:  left;\n",
       "        }    #T_34f1f055_fce0_11ea_a3d2_3c528213d836row10_col5 {\n",
       "            : ;\n",
       "            text-align:  left;\n",
       "        }    #T_34f1f055_fce0_11ea_a3d2_3c528213d836row10_col6 {\n",
       "            : ;\n",
       "            text-align:  left;\n",
       "        }    #T_34f1f055_fce0_11ea_a3d2_3c528213d836row10_col7 {\n",
       "            background-color:  lightgrey;\n",
       "            text-align:  left;\n",
       "        }    #T_34f1f055_fce0_11ea_a3d2_3c528213d836row11_col0 {\n",
       "            text-align:  left;\n",
       "        }    #T_34f1f055_fce0_11ea_a3d2_3c528213d836row11_col1 {\n",
       "            : ;\n",
       "            text-align:  left;\n",
       "        }    #T_34f1f055_fce0_11ea_a3d2_3c528213d836row11_col2 {\n",
       "            : ;\n",
       "            text-align:  left;\n",
       "        }    #T_34f1f055_fce0_11ea_a3d2_3c528213d836row11_col3 {\n",
       "            : ;\n",
       "            text-align:  left;\n",
       "        }    #T_34f1f055_fce0_11ea_a3d2_3c528213d836row11_col4 {\n",
       "            : ;\n",
       "            text-align:  left;\n",
       "        }    #T_34f1f055_fce0_11ea_a3d2_3c528213d836row11_col5 {\n",
       "            : ;\n",
       "            text-align:  left;\n",
       "        }    #T_34f1f055_fce0_11ea_a3d2_3c528213d836row11_col6 {\n",
       "            : ;\n",
       "            text-align:  left;\n",
       "        }    #T_34f1f055_fce0_11ea_a3d2_3c528213d836row11_col7 {\n",
       "            background-color:  lightgrey;\n",
       "            text-align:  left;\n",
       "        }    #T_34f1f055_fce0_11ea_a3d2_3c528213d836row12_col0 {\n",
       "            text-align:  left;\n",
       "        }    #T_34f1f055_fce0_11ea_a3d2_3c528213d836row12_col1 {\n",
       "            : ;\n",
       "            text-align:  left;\n",
       "        }    #T_34f1f055_fce0_11ea_a3d2_3c528213d836row12_col2 {\n",
       "            : ;\n",
       "            text-align:  left;\n",
       "        }    #T_34f1f055_fce0_11ea_a3d2_3c528213d836row12_col3 {\n",
       "            : ;\n",
       "            text-align:  left;\n",
       "        }    #T_34f1f055_fce0_11ea_a3d2_3c528213d836row12_col4 {\n",
       "            : ;\n",
       "            text-align:  left;\n",
       "        }    #T_34f1f055_fce0_11ea_a3d2_3c528213d836row12_col5 {\n",
       "            : ;\n",
       "            text-align:  left;\n",
       "        }    #T_34f1f055_fce0_11ea_a3d2_3c528213d836row12_col6 {\n",
       "            : ;\n",
       "            text-align:  left;\n",
       "        }    #T_34f1f055_fce0_11ea_a3d2_3c528213d836row12_col7 {\n",
       "            background-color:  lightgrey;\n",
       "            text-align:  left;\n",
       "        }    #T_34f1f055_fce0_11ea_a3d2_3c528213d836row13_col0 {\n",
       "            text-align:  left;\n",
       "        }    #T_34f1f055_fce0_11ea_a3d2_3c528213d836row13_col1 {\n",
       "            : ;\n",
       "            text-align:  left;\n",
       "        }    #T_34f1f055_fce0_11ea_a3d2_3c528213d836row13_col2 {\n",
       "            : ;\n",
       "            text-align:  left;\n",
       "        }    #T_34f1f055_fce0_11ea_a3d2_3c528213d836row13_col3 {\n",
       "            : ;\n",
       "            text-align:  left;\n",
       "        }    #T_34f1f055_fce0_11ea_a3d2_3c528213d836row13_col4 {\n",
       "            : ;\n",
       "            text-align:  left;\n",
       "        }    #T_34f1f055_fce0_11ea_a3d2_3c528213d836row13_col5 {\n",
       "            : ;\n",
       "            text-align:  left;\n",
       "        }    #T_34f1f055_fce0_11ea_a3d2_3c528213d836row13_col6 {\n",
       "            : ;\n",
       "            text-align:  left;\n",
       "        }    #T_34f1f055_fce0_11ea_a3d2_3c528213d836row13_col7 {\n",
       "            background-color:  lightgrey;\n",
       "            text-align:  left;\n",
       "        }    #T_34f1f055_fce0_11ea_a3d2_3c528213d836row14_col0 {\n",
       "            text-align:  left;\n",
       "        }    #T_34f1f055_fce0_11ea_a3d2_3c528213d836row14_col1 {\n",
       "            : ;\n",
       "            text-align:  left;\n",
       "        }    #T_34f1f055_fce0_11ea_a3d2_3c528213d836row14_col2 {\n",
       "            : ;\n",
       "            text-align:  left;\n",
       "        }    #T_34f1f055_fce0_11ea_a3d2_3c528213d836row14_col3 {\n",
       "            : ;\n",
       "            text-align:  left;\n",
       "        }    #T_34f1f055_fce0_11ea_a3d2_3c528213d836row14_col4 {\n",
       "            : ;\n",
       "            text-align:  left;\n",
       "        }    #T_34f1f055_fce0_11ea_a3d2_3c528213d836row14_col5 {\n",
       "            : ;\n",
       "            text-align:  left;\n",
       "        }    #T_34f1f055_fce0_11ea_a3d2_3c528213d836row14_col6 {\n",
       "            : ;\n",
       "            text-align:  left;\n",
       "        }    #T_34f1f055_fce0_11ea_a3d2_3c528213d836row14_col7 {\n",
       "            background-color:  lightgrey;\n",
       "            text-align:  left;\n",
       "        }    #T_34f1f055_fce0_11ea_a3d2_3c528213d836row15_col0 {\n",
       "            text-align:  left;\n",
       "        }    #T_34f1f055_fce0_11ea_a3d2_3c528213d836row15_col1 {\n",
       "            : ;\n",
       "            text-align:  left;\n",
       "        }    #T_34f1f055_fce0_11ea_a3d2_3c528213d836row15_col2 {\n",
       "            : ;\n",
       "            text-align:  left;\n",
       "        }    #T_34f1f055_fce0_11ea_a3d2_3c528213d836row15_col3 {\n",
       "            : ;\n",
       "            text-align:  left;\n",
       "        }    #T_34f1f055_fce0_11ea_a3d2_3c528213d836row15_col4 {\n",
       "            : ;\n",
       "            text-align:  left;\n",
       "        }    #T_34f1f055_fce0_11ea_a3d2_3c528213d836row15_col5 {\n",
       "            : ;\n",
       "            text-align:  left;\n",
       "        }    #T_34f1f055_fce0_11ea_a3d2_3c528213d836row15_col6 {\n",
       "            : ;\n",
       "            text-align:  left;\n",
       "        }    #T_34f1f055_fce0_11ea_a3d2_3c528213d836row15_col7 {\n",
       "            background-color:  lightgrey;\n",
       "            text-align:  left;\n",
       "        }    #T_34f1f055_fce0_11ea_a3d2_3c528213d836row16_col0 {\n",
       "            text-align:  left;\n",
       "        }    #T_34f1f055_fce0_11ea_a3d2_3c528213d836row16_col1 {\n",
       "            : ;\n",
       "            text-align:  left;\n",
       "        }    #T_34f1f055_fce0_11ea_a3d2_3c528213d836row16_col2 {\n",
       "            : ;\n",
       "            text-align:  left;\n",
       "        }    #T_34f1f055_fce0_11ea_a3d2_3c528213d836row16_col3 {\n",
       "            : ;\n",
       "            text-align:  left;\n",
       "        }    #T_34f1f055_fce0_11ea_a3d2_3c528213d836row16_col4 {\n",
       "            : ;\n",
       "            text-align:  left;\n",
       "        }    #T_34f1f055_fce0_11ea_a3d2_3c528213d836row16_col5 {\n",
       "            : ;\n",
       "            text-align:  left;\n",
       "        }    #T_34f1f055_fce0_11ea_a3d2_3c528213d836row16_col6 {\n",
       "            : ;\n",
       "            text-align:  left;\n",
       "        }    #T_34f1f055_fce0_11ea_a3d2_3c528213d836row16_col7 {\n",
       "            background-color:  lightgrey;\n",
       "            text-align:  left;\n",
       "        }    #T_34f1f055_fce0_11ea_a3d2_3c528213d836row17_col0 {\n",
       "            text-align:  left;\n",
       "        }    #T_34f1f055_fce0_11ea_a3d2_3c528213d836row17_col1 {\n",
       "            : ;\n",
       "            text-align:  left;\n",
       "        }    #T_34f1f055_fce0_11ea_a3d2_3c528213d836row17_col2 {\n",
       "            : ;\n",
       "            text-align:  left;\n",
       "        }    #T_34f1f055_fce0_11ea_a3d2_3c528213d836row17_col3 {\n",
       "            : ;\n",
       "            text-align:  left;\n",
       "        }    #T_34f1f055_fce0_11ea_a3d2_3c528213d836row17_col4 {\n",
       "            : ;\n",
       "            text-align:  left;\n",
       "        }    #T_34f1f055_fce0_11ea_a3d2_3c528213d836row17_col5 {\n",
       "            : ;\n",
       "            text-align:  left;\n",
       "        }    #T_34f1f055_fce0_11ea_a3d2_3c528213d836row17_col6 {\n",
       "            : ;\n",
       "            text-align:  left;\n",
       "        }    #T_34f1f055_fce0_11ea_a3d2_3c528213d836row17_col7 {\n",
       "            background-color:  lightgrey;\n",
       "            text-align:  left;\n",
       "        }    #T_34f1f055_fce0_11ea_a3d2_3c528213d836row18_col0 {\n",
       "            text-align:  left;\n",
       "        }    #T_34f1f055_fce0_11ea_a3d2_3c528213d836row18_col1 {\n",
       "            : ;\n",
       "            text-align:  left;\n",
       "        }    #T_34f1f055_fce0_11ea_a3d2_3c528213d836row18_col2 {\n",
       "            : ;\n",
       "            text-align:  left;\n",
       "        }    #T_34f1f055_fce0_11ea_a3d2_3c528213d836row18_col3 {\n",
       "            : ;\n",
       "            text-align:  left;\n",
       "        }    #T_34f1f055_fce0_11ea_a3d2_3c528213d836row18_col4 {\n",
       "            : ;\n",
       "            text-align:  left;\n",
       "        }    #T_34f1f055_fce0_11ea_a3d2_3c528213d836row18_col5 {\n",
       "            : ;\n",
       "            text-align:  left;\n",
       "        }    #T_34f1f055_fce0_11ea_a3d2_3c528213d836row18_col6 {\n",
       "            : ;\n",
       "            text-align:  left;\n",
       "        }    #T_34f1f055_fce0_11ea_a3d2_3c528213d836row18_col7 {\n",
       "            background-color:  lightgrey;\n",
       "            text-align:  left;\n",
       "        }    #T_34f1f055_fce0_11ea_a3d2_3c528213d836row19_col0 {\n",
       "            text-align:  left;\n",
       "        }    #T_34f1f055_fce0_11ea_a3d2_3c528213d836row19_col1 {\n",
       "            : ;\n",
       "            text-align:  left;\n",
       "        }    #T_34f1f055_fce0_11ea_a3d2_3c528213d836row19_col2 {\n",
       "            : ;\n",
       "            text-align:  left;\n",
       "        }    #T_34f1f055_fce0_11ea_a3d2_3c528213d836row19_col3 {\n",
       "            : ;\n",
       "            text-align:  left;\n",
       "        }    #T_34f1f055_fce0_11ea_a3d2_3c528213d836row19_col4 {\n",
       "            : ;\n",
       "            text-align:  left;\n",
       "        }    #T_34f1f055_fce0_11ea_a3d2_3c528213d836row19_col5 {\n",
       "            : ;\n",
       "            text-align:  left;\n",
       "        }    #T_34f1f055_fce0_11ea_a3d2_3c528213d836row19_col6 {\n",
       "            : ;\n",
       "            text-align:  left;\n",
       "        }    #T_34f1f055_fce0_11ea_a3d2_3c528213d836row19_col7 {\n",
       "            background-color:  lightgrey;\n",
       "            text-align:  left;\n",
       "        }    #T_34f1f055_fce0_11ea_a3d2_3c528213d836row20_col0 {\n",
       "            text-align:  left;\n",
       "        }    #T_34f1f055_fce0_11ea_a3d2_3c528213d836row20_col1 {\n",
       "            : ;\n",
       "            text-align:  left;\n",
       "        }    #T_34f1f055_fce0_11ea_a3d2_3c528213d836row20_col2 {\n",
       "            : ;\n",
       "            text-align:  left;\n",
       "        }    #T_34f1f055_fce0_11ea_a3d2_3c528213d836row20_col3 {\n",
       "            : ;\n",
       "            text-align:  left;\n",
       "        }    #T_34f1f055_fce0_11ea_a3d2_3c528213d836row20_col4 {\n",
       "            : ;\n",
       "            text-align:  left;\n",
       "        }    #T_34f1f055_fce0_11ea_a3d2_3c528213d836row20_col5 {\n",
       "            : ;\n",
       "            text-align:  left;\n",
       "        }    #T_34f1f055_fce0_11ea_a3d2_3c528213d836row20_col6 {\n",
       "            : ;\n",
       "            text-align:  left;\n",
       "        }    #T_34f1f055_fce0_11ea_a3d2_3c528213d836row20_col7 {\n",
       "            background-color:  lightgrey;\n",
       "            text-align:  left;\n",
       "        }    #T_34f1f055_fce0_11ea_a3d2_3c528213d836row21_col0 {\n",
       "            text-align:  left;\n",
       "        }    #T_34f1f055_fce0_11ea_a3d2_3c528213d836row21_col1 {\n",
       "            : ;\n",
       "            text-align:  left;\n",
       "        }    #T_34f1f055_fce0_11ea_a3d2_3c528213d836row21_col2 {\n",
       "            : ;\n",
       "            text-align:  left;\n",
       "        }    #T_34f1f055_fce0_11ea_a3d2_3c528213d836row21_col3 {\n",
       "            : ;\n",
       "            text-align:  left;\n",
       "        }    #T_34f1f055_fce0_11ea_a3d2_3c528213d836row21_col4 {\n",
       "            : ;\n",
       "            text-align:  left;\n",
       "        }    #T_34f1f055_fce0_11ea_a3d2_3c528213d836row21_col5 {\n",
       "            : ;\n",
       "            text-align:  left;\n",
       "        }    #T_34f1f055_fce0_11ea_a3d2_3c528213d836row21_col6 {\n",
       "            : ;\n",
       "            text-align:  left;\n",
       "        }    #T_34f1f055_fce0_11ea_a3d2_3c528213d836row21_col7 {\n",
       "            background-color:  lightgrey;\n",
       "            text-align:  left;\n",
       "        }</style><table id=\"T_34f1f055_fce0_11ea_a3d2_3c528213d836\" ><thead>    <tr>        <th class=\"blank level0\" ></th>        <th class=\"col_heading level0 col0\" >Model</th>        <th class=\"col_heading level0 col1\" >MAE</th>        <th class=\"col_heading level0 col2\" >MSE</th>        <th class=\"col_heading level0 col3\" >RMSE</th>        <th class=\"col_heading level0 col4\" >R2</th>        <th class=\"col_heading level0 col5\" >RMSLE</th>        <th class=\"col_heading level0 col6\" >MAPE</th>        <th class=\"col_heading level0 col7\" >TT (Sec)</th>    </tr></thead><tbody>\n",
       "                <tr>\n",
       "                        <th id=\"T_34f1f055_fce0_11ea_a3d2_3c528213d836level0_row0\" class=\"row_heading level0 row0\" >0</th>\n",
       "                        <td id=\"T_34f1f055_fce0_11ea_a3d2_3c528213d836row0_col0\" class=\"data row0 col0\" >Random Forest</td>\n",
       "                        <td id=\"T_34f1f055_fce0_11ea_a3d2_3c528213d836row0_col1\" class=\"data row0 col1\" >29301.5291</td>\n",
       "                        <td id=\"T_34f1f055_fce0_11ea_a3d2_3c528213d836row0_col2\" class=\"data row0 col2\" >2163230089.6387</td>\n",
       "                        <td id=\"T_34f1f055_fce0_11ea_a3d2_3c528213d836row0_col3\" class=\"data row0 col3\" >42515.7030</td>\n",
       "                        <td id=\"T_34f1f055_fce0_11ea_a3d2_3c528213d836row0_col4\" class=\"data row0 col4\" >0.3529</td>\n",
       "                        <td id=\"T_34f1f055_fce0_11ea_a3d2_3c528213d836row0_col5\" class=\"data row0 col5\" >0.3022</td>\n",
       "                        <td id=\"T_34f1f055_fce0_11ea_a3d2_3c528213d836row0_col6\" class=\"data row0 col6\" >0.2724</td>\n",
       "                        <td id=\"T_34f1f055_fce0_11ea_a3d2_3c528213d836row0_col7\" class=\"data row0 col7\" >0.1758</td>\n",
       "            </tr>\n",
       "            <tr>\n",
       "                        <th id=\"T_34f1f055_fce0_11ea_a3d2_3c528213d836level0_row1\" class=\"row_heading level0 row1\" >1</th>\n",
       "                        <td id=\"T_34f1f055_fce0_11ea_a3d2_3c528213d836row1_col0\" class=\"data row1 col0\" >Extra Trees Regressor</td>\n",
       "                        <td id=\"T_34f1f055_fce0_11ea_a3d2_3c528213d836row1_col1\" class=\"data row1 col1\" >30909.3561</td>\n",
       "                        <td id=\"T_34f1f055_fce0_11ea_a3d2_3c528213d836row1_col2\" class=\"data row1 col2\" >2334604919.2863</td>\n",
       "                        <td id=\"T_34f1f055_fce0_11ea_a3d2_3c528213d836row1_col3\" class=\"data row1 col3\" >43150.5733</td>\n",
       "                        <td id=\"T_34f1f055_fce0_11ea_a3d2_3c528213d836row1_col4\" class=\"data row1 col4\" >0.3501</td>\n",
       "                        <td id=\"T_34f1f055_fce0_11ea_a3d2_3c528213d836row1_col5\" class=\"data row1 col5\" >0.3118</td>\n",
       "                        <td id=\"T_34f1f055_fce0_11ea_a3d2_3c528213d836row1_col6\" class=\"data row1 col6\" >0.2863</td>\n",
       "                        <td id=\"T_34f1f055_fce0_11ea_a3d2_3c528213d836row1_col7\" class=\"data row1 col7\" >0.1388</td>\n",
       "            </tr>\n",
       "            <tr>\n",
       "                        <th id=\"T_34f1f055_fce0_11ea_a3d2_3c528213d836level0_row2\" class=\"row_heading level0 row2\" >2</th>\n",
       "                        <td id=\"T_34f1f055_fce0_11ea_a3d2_3c528213d836row2_col0\" class=\"data row2 col0\" >AdaBoost Regressor</td>\n",
       "                        <td id=\"T_34f1f055_fce0_11ea_a3d2_3c528213d836row2_col1\" class=\"data row2 col1\" >32635.1157</td>\n",
       "                        <td id=\"T_34f1f055_fce0_11ea_a3d2_3c528213d836row2_col2\" class=\"data row2 col2\" >2127994922.1505</td>\n",
       "                        <td id=\"T_34f1f055_fce0_11ea_a3d2_3c528213d836row2_col3\" class=\"data row2 col3\" >42943.7651</td>\n",
       "                        <td id=\"T_34f1f055_fce0_11ea_a3d2_3c528213d836row2_col4\" class=\"data row2 col4\" >0.3479</td>\n",
       "                        <td id=\"T_34f1f055_fce0_11ea_a3d2_3c528213d836row2_col5\" class=\"data row2 col5\" >0.3456</td>\n",
       "                        <td id=\"T_34f1f055_fce0_11ea_a3d2_3c528213d836row2_col6\" class=\"data row2 col6\" >0.3309</td>\n",
       "                        <td id=\"T_34f1f055_fce0_11ea_a3d2_3c528213d836row2_col7\" class=\"data row2 col7\" >0.0767</td>\n",
       "            </tr>\n",
       "            <tr>\n",
       "                        <th id=\"T_34f1f055_fce0_11ea_a3d2_3c528213d836level0_row3\" class=\"row_heading level0 row3\" >3</th>\n",
       "                        <td id=\"T_34f1f055_fce0_11ea_a3d2_3c528213d836row3_col0\" class=\"data row3 col0\" >Gradient Boosting Regressor</td>\n",
       "                        <td id=\"T_34f1f055_fce0_11ea_a3d2_3c528213d836row3_col1\" class=\"data row3 col1\" >33365.8582</td>\n",
       "                        <td id=\"T_34f1f055_fce0_11ea_a3d2_3c528213d836row3_col2\" class=\"data row3 col2\" >2111731316.6444</td>\n",
       "                        <td id=\"T_34f1f055_fce0_11ea_a3d2_3c528213d836row3_col3\" class=\"data row3 col3\" >43646.7740</td>\n",
       "                        <td id=\"T_34f1f055_fce0_11ea_a3d2_3c528213d836row3_col4\" class=\"data row3 col4\" >0.3123</td>\n",
       "                        <td id=\"T_34f1f055_fce0_11ea_a3d2_3c528213d836row3_col5\" class=\"data row3 col5\" >0.3464</td>\n",
       "                        <td id=\"T_34f1f055_fce0_11ea_a3d2_3c528213d836row3_col6\" class=\"data row3 col6\" >0.3276</td>\n",
       "                        <td id=\"T_34f1f055_fce0_11ea_a3d2_3c528213d836row3_col7\" class=\"data row3 col7\" >0.0417</td>\n",
       "            </tr>\n",
       "            <tr>\n",
       "                        <th id=\"T_34f1f055_fce0_11ea_a3d2_3c528213d836level0_row4\" class=\"row_heading level0 row4\" >4</th>\n",
       "                        <td id=\"T_34f1f055_fce0_11ea_a3d2_3c528213d836row4_col0\" class=\"data row4 col0\" >Extreme Gradient Boosting</td>\n",
       "                        <td id=\"T_34f1f055_fce0_11ea_a3d2_3c528213d836row4_col1\" class=\"data row4 col1\" >32658.4512</td>\n",
       "                        <td id=\"T_34f1f055_fce0_11ea_a3d2_3c528213d836row4_col2\" class=\"data row4 col2\" >2493513976.4447</td>\n",
       "                        <td id=\"T_34f1f055_fce0_11ea_a3d2_3c528213d836row4_col3\" class=\"data row4 col3\" >46506.4956</td>\n",
       "                        <td id=\"T_34f1f055_fce0_11ea_a3d2_3c528213d836row4_col4\" class=\"data row4 col4\" >0.3076</td>\n",
       "                        <td id=\"T_34f1f055_fce0_11ea_a3d2_3c528213d836row4_col5\" class=\"data row4 col5\" >0.3346</td>\n",
       "                        <td id=\"T_34f1f055_fce0_11ea_a3d2_3c528213d836row4_col6\" class=\"data row4 col6\" >0.2863</td>\n",
       "                        <td id=\"T_34f1f055_fce0_11ea_a3d2_3c528213d836row4_col7\" class=\"data row4 col7\" >0.0910</td>\n",
       "            </tr>\n",
       "            <tr>\n",
       "                        <th id=\"T_34f1f055_fce0_11ea_a3d2_3c528213d836level0_row5\" class=\"row_heading level0 row5\" >5</th>\n",
       "                        <td id=\"T_34f1f055_fce0_11ea_a3d2_3c528213d836row5_col0\" class=\"data row5 col0\" >CatBoost Regressor</td>\n",
       "                        <td id=\"T_34f1f055_fce0_11ea_a3d2_3c528213d836row5_col1\" class=\"data row5 col1\" >32752.6319</td>\n",
       "                        <td id=\"T_34f1f055_fce0_11ea_a3d2_3c528213d836row5_col2\" class=\"data row5 col2\" >2563181216.0432</td>\n",
       "                        <td id=\"T_34f1f055_fce0_11ea_a3d2_3c528213d836row5_col3\" class=\"data row5 col3\" >44846.5924</td>\n",
       "                        <td id=\"T_34f1f055_fce0_11ea_a3d2_3c528213d836row5_col4\" class=\"data row5 col4\" >0.2778</td>\n",
       "                        <td id=\"T_34f1f055_fce0_11ea_a3d2_3c528213d836row5_col5\" class=\"data row5 col5\" >0.3548</td>\n",
       "                        <td id=\"T_34f1f055_fce0_11ea_a3d2_3c528213d836row5_col6\" class=\"data row5 col6\" >0.3265</td>\n",
       "                        <td id=\"T_34f1f055_fce0_11ea_a3d2_3c528213d836row5_col7\" class=\"data row5 col7\" >0.7928</td>\n",
       "            </tr>\n",
       "            <tr>\n",
       "                        <th id=\"T_34f1f055_fce0_11ea_a3d2_3c528213d836level0_row6\" class=\"row_heading level0 row6\" >6</th>\n",
       "                        <td id=\"T_34f1f055_fce0_11ea_a3d2_3c528213d836row6_col0\" class=\"data row6 col0\" >Elastic Net</td>\n",
       "                        <td id=\"T_34f1f055_fce0_11ea_a3d2_3c528213d836row6_col1\" class=\"data row6 col1\" >38823.9344</td>\n",
       "                        <td id=\"T_34f1f055_fce0_11ea_a3d2_3c528213d836row6_col2\" class=\"data row6 col2\" >3099121552.3342</td>\n",
       "                        <td id=\"T_34f1f055_fce0_11ea_a3d2_3c528213d836row6_col3\" class=\"data row6 col3\" >50633.3856</td>\n",
       "                        <td id=\"T_34f1f055_fce0_11ea_a3d2_3c528213d836row6_col4\" class=\"data row6 col4\" >0.2085</td>\n",
       "                        <td id=\"T_34f1f055_fce0_11ea_a3d2_3c528213d836row6_col5\" class=\"data row6 col5\" >0.4152</td>\n",
       "                        <td id=\"T_34f1f055_fce0_11ea_a3d2_3c528213d836row6_col6\" class=\"data row6 col6\" >0.4046</td>\n",
       "                        <td id=\"T_34f1f055_fce0_11ea_a3d2_3c528213d836row6_col7\" class=\"data row6 col7\" >0.0053</td>\n",
       "            </tr>\n",
       "            <tr>\n",
       "                        <th id=\"T_34f1f055_fce0_11ea_a3d2_3c528213d836level0_row7\" class=\"row_heading level0 row7\" >7</th>\n",
       "                        <td id=\"T_34f1f055_fce0_11ea_a3d2_3c528213d836row7_col0\" class=\"data row7 col0\" >Random Sample Consensus</td>\n",
       "                        <td id=\"T_34f1f055_fce0_11ea_a3d2_3c528213d836row7_col1\" class=\"data row7 col1\" >36678.6640</td>\n",
       "                        <td id=\"T_34f1f055_fce0_11ea_a3d2_3c528213d836row7_col2\" class=\"data row7 col2\" >3169982088.6563</td>\n",
       "                        <td id=\"T_34f1f055_fce0_11ea_a3d2_3c528213d836row7_col3\" class=\"data row7 col3\" >51390.4456</td>\n",
       "                        <td id=\"T_34f1f055_fce0_11ea_a3d2_3c528213d836row7_col4\" class=\"data row7 col4\" >0.2040</td>\n",
       "                        <td id=\"T_34f1f055_fce0_11ea_a3d2_3c528213d836row7_col5\" class=\"data row7 col5\" >0.3875</td>\n",
       "                        <td id=\"T_34f1f055_fce0_11ea_a3d2_3c528213d836row7_col6\" class=\"data row7 col6\" >0.3116</td>\n",
       "                        <td id=\"T_34f1f055_fce0_11ea_a3d2_3c528213d836row7_col7\" class=\"data row7 col7\" >0.0752</td>\n",
       "            </tr>\n",
       "            <tr>\n",
       "                        <th id=\"T_34f1f055_fce0_11ea_a3d2_3c528213d836level0_row8\" class=\"row_heading level0 row8\" >8</th>\n",
       "                        <td id=\"T_34f1f055_fce0_11ea_a3d2_3c528213d836row8_col0\" class=\"data row8 col0\" >Huber Regressor</td>\n",
       "                        <td id=\"T_34f1f055_fce0_11ea_a3d2_3c528213d836row8_col1\" class=\"data row8 col1\" >36626.1631</td>\n",
       "                        <td id=\"T_34f1f055_fce0_11ea_a3d2_3c528213d836row8_col2\" class=\"data row8 col2\" >3066209514.8814</td>\n",
       "                        <td id=\"T_34f1f055_fce0_11ea_a3d2_3c528213d836row8_col3\" class=\"data row8 col3\" >50086.0571</td>\n",
       "                        <td id=\"T_34f1f055_fce0_11ea_a3d2_3c528213d836row8_col4\" class=\"data row8 col4\" >0.1856</td>\n",
       "                        <td id=\"T_34f1f055_fce0_11ea_a3d2_3c528213d836row8_col5\" class=\"data row8 col5\" >0.3800</td>\n",
       "                        <td id=\"T_34f1f055_fce0_11ea_a3d2_3c528213d836row8_col6\" class=\"data row8 col6\" >0.3248</td>\n",
       "                        <td id=\"T_34f1f055_fce0_11ea_a3d2_3c528213d836row8_col7\" class=\"data row8 col7\" >0.0100</td>\n",
       "            </tr>\n",
       "            <tr>\n",
       "                        <th id=\"T_34f1f055_fce0_11ea_a3d2_3c528213d836level0_row9\" class=\"row_heading level0 row9\" >9</th>\n",
       "                        <td id=\"T_34f1f055_fce0_11ea_a3d2_3c528213d836row9_col0\" class=\"data row9 col0\" >Orthogonal Matching Pursuit</td>\n",
       "                        <td id=\"T_34f1f055_fce0_11ea_a3d2_3c528213d836row9_col1\" class=\"data row9 col1\" >39774.7737</td>\n",
       "                        <td id=\"T_34f1f055_fce0_11ea_a3d2_3c528213d836row9_col2\" class=\"data row9 col2\" >3078734214.2651</td>\n",
       "                        <td id=\"T_34f1f055_fce0_11ea_a3d2_3c528213d836row9_col3\" class=\"data row9 col3\" >51049.8354</td>\n",
       "                        <td id=\"T_34f1f055_fce0_11ea_a3d2_3c528213d836row9_col4\" class=\"data row9 col4\" >0.1016</td>\n",
       "                        <td id=\"T_34f1f055_fce0_11ea_a3d2_3c528213d836row9_col5\" class=\"data row9 col5\" >0.4021</td>\n",
       "                        <td id=\"T_34f1f055_fce0_11ea_a3d2_3c528213d836row9_col6\" class=\"data row9 col6\" >0.3714</td>\n",
       "                        <td id=\"T_34f1f055_fce0_11ea_a3d2_3c528213d836row9_col7\" class=\"data row9 col7\" >0.0016</td>\n",
       "            </tr>\n",
       "            <tr>\n",
       "                        <th id=\"T_34f1f055_fce0_11ea_a3d2_3c528213d836level0_row10\" class=\"row_heading level0 row10\" >10</th>\n",
       "                        <td id=\"T_34f1f055_fce0_11ea_a3d2_3c528213d836row10_col0\" class=\"data row10 col0\" >Decision Tree</td>\n",
       "                        <td id=\"T_34f1f055_fce0_11ea_a3d2_3c528213d836row10_col1\" class=\"data row10 col1\" >38305.2540</td>\n",
       "                        <td id=\"T_34f1f055_fce0_11ea_a3d2_3c528213d836row10_col2\" class=\"data row10 col2\" >3219692271.8766</td>\n",
       "                        <td id=\"T_34f1f055_fce0_11ea_a3d2_3c528213d836row10_col3\" class=\"data row10 col3\" >54047.7257</td>\n",
       "                        <td id=\"T_34f1f055_fce0_11ea_a3d2_3c528213d836row10_col4\" class=\"data row10 col4\" >0.0111</td>\n",
       "                        <td id=\"T_34f1f055_fce0_11ea_a3d2_3c528213d836row10_col5\" class=\"data row10 col5\" >0.4014</td>\n",
       "                        <td id=\"T_34f1f055_fce0_11ea_a3d2_3c528213d836row10_col6\" class=\"data row10 col6\" >0.3432</td>\n",
       "                        <td id=\"T_34f1f055_fce0_11ea_a3d2_3c528213d836row10_col7\" class=\"data row10 col7\" >0.0031</td>\n",
       "            </tr>\n",
       "            <tr>\n",
       "                        <th id=\"T_34f1f055_fce0_11ea_a3d2_3c528213d836level0_row11\" class=\"row_heading level0 row11\" >11</th>\n",
       "                        <td id=\"T_34f1f055_fce0_11ea_a3d2_3c528213d836row11_col0\" class=\"data row11 col0\" >Ridge Regression</td>\n",
       "                        <td id=\"T_34f1f055_fce0_11ea_a3d2_3c528213d836row11_col1\" class=\"data row11 col1\" >37439.5700</td>\n",
       "                        <td id=\"T_34f1f055_fce0_11ea_a3d2_3c528213d836row11_col2\" class=\"data row11 col2\" >3098883144.8375</td>\n",
       "                        <td id=\"T_34f1f055_fce0_11ea_a3d2_3c528213d836row11_col3\" class=\"data row11 col3\" >49984.0027</td>\n",
       "                        <td id=\"T_34f1f055_fce0_11ea_a3d2_3c528213d836row11_col4\" class=\"data row11 col4\" >-0.0341</td>\n",
       "                        <td id=\"T_34f1f055_fce0_11ea_a3d2_3c528213d836row11_col5\" class=\"data row11 col5\" >0.3849</td>\n",
       "                        <td id=\"T_34f1f055_fce0_11ea_a3d2_3c528213d836row11_col6\" class=\"data row11 col6\" >0.3508</td>\n",
       "                        <td id=\"T_34f1f055_fce0_11ea_a3d2_3c528213d836row11_col7\" class=\"data row11 col7\" >0.0016</td>\n",
       "            </tr>\n",
       "            <tr>\n",
       "                        <th id=\"T_34f1f055_fce0_11ea_a3d2_3c528213d836level0_row12\" class=\"row_heading level0 row12\" >12</th>\n",
       "                        <td id=\"T_34f1f055_fce0_11ea_a3d2_3c528213d836row12_col0\" class=\"data row12 col0\" >Lasso Regression</td>\n",
       "                        <td id=\"T_34f1f055_fce0_11ea_a3d2_3c528213d836row12_col1\" class=\"data row12 col1\" >37472.6130</td>\n",
       "                        <td id=\"T_34f1f055_fce0_11ea_a3d2_3c528213d836row12_col2\" class=\"data row12 col2\" >3115766385.0226</td>\n",
       "                        <td id=\"T_34f1f055_fce0_11ea_a3d2_3c528213d836row12_col3\" class=\"data row12 col3\" >50108.2217</td>\n",
       "                        <td id=\"T_34f1f055_fce0_11ea_a3d2_3c528213d836row12_col4\" class=\"data row12 col4\" >-0.0517</td>\n",
       "                        <td id=\"T_34f1f055_fce0_11ea_a3d2_3c528213d836row12_col5\" class=\"data row12 col5\" >0.3853</td>\n",
       "                        <td id=\"T_34f1f055_fce0_11ea_a3d2_3c528213d836row12_col6\" class=\"data row12 col6\" >0.3498</td>\n",
       "                        <td id=\"T_34f1f055_fce0_11ea_a3d2_3c528213d836row12_col7\" class=\"data row12 col7\" >0.0069</td>\n",
       "            </tr>\n",
       "            <tr>\n",
       "                        <th id=\"T_34f1f055_fce0_11ea_a3d2_3c528213d836level0_row13\" class=\"row_heading level0 row13\" >13</th>\n",
       "                        <td id=\"T_34f1f055_fce0_11ea_a3d2_3c528213d836row13_col0\" class=\"data row13 col0\" >Linear Regression</td>\n",
       "                        <td id=\"T_34f1f055_fce0_11ea_a3d2_3c528213d836row13_col1\" class=\"data row13 col1\" >37472.8836</td>\n",
       "                        <td id=\"T_34f1f055_fce0_11ea_a3d2_3c528213d836row13_col2\" class=\"data row13 col2\" >3115861068.1703</td>\n",
       "                        <td id=\"T_34f1f055_fce0_11ea_a3d2_3c528213d836row13_col3\" class=\"data row13 col3\" >50108.8670</td>\n",
       "                        <td id=\"T_34f1f055_fce0_11ea_a3d2_3c528213d836row13_col4\" class=\"data row13 col4\" >-0.0518</td>\n",
       "                        <td id=\"T_34f1f055_fce0_11ea_a3d2_3c528213d836row13_col5\" class=\"data row13 col5\" >0.3853</td>\n",
       "                        <td id=\"T_34f1f055_fce0_11ea_a3d2_3c528213d836row13_col6\" class=\"data row13 col6\" >0.3498</td>\n",
       "                        <td id=\"T_34f1f055_fce0_11ea_a3d2_3c528213d836row13_col7\" class=\"data row13 col7\" >0.0069</td>\n",
       "            </tr>\n",
       "            <tr>\n",
       "                        <th id=\"T_34f1f055_fce0_11ea_a3d2_3c528213d836level0_row14\" class=\"row_heading level0 row14\" >14</th>\n",
       "                        <td id=\"T_34f1f055_fce0_11ea_a3d2_3c528213d836row14_col0\" class=\"data row14 col0\" >Lasso Least Angle Regression</td>\n",
       "                        <td id=\"T_34f1f055_fce0_11ea_a3d2_3c528213d836row14_col1\" class=\"data row14 col1\" >37563.1804</td>\n",
       "                        <td id=\"T_34f1f055_fce0_11ea_a3d2_3c528213d836row14_col2\" class=\"data row14 col2\" >3132128731.3781</td>\n",
       "                        <td id=\"T_34f1f055_fce0_11ea_a3d2_3c528213d836row14_col3\" class=\"data row14 col3\" >50300.1457</td>\n",
       "                        <td id=\"T_34f1f055_fce0_11ea_a3d2_3c528213d836row14_col4\" class=\"data row14 col4\" >-0.0563</td>\n",
       "                        <td id=\"T_34f1f055_fce0_11ea_a3d2_3c528213d836row14_col5\" class=\"data row14 col5\" >0.3853</td>\n",
       "                        <td id=\"T_34f1f055_fce0_11ea_a3d2_3c528213d836row14_col6\" class=\"data row14 col6\" >0.3494</td>\n",
       "                        <td id=\"T_34f1f055_fce0_11ea_a3d2_3c528213d836row14_col7\" class=\"data row14 col7\" >0.0057</td>\n",
       "            </tr>\n",
       "            <tr>\n",
       "                        <th id=\"T_34f1f055_fce0_11ea_a3d2_3c528213d836level0_row15\" class=\"row_heading level0 row15\" >15</th>\n",
       "                        <td id=\"T_34f1f055_fce0_11ea_a3d2_3c528213d836row15_col0\" class=\"data row15 col0\" >Least Angle Regression</td>\n",
       "                        <td id=\"T_34f1f055_fce0_11ea_a3d2_3c528213d836row15_col1\" class=\"data row15 col1\" >37564.0646</td>\n",
       "                        <td id=\"T_34f1f055_fce0_11ea_a3d2_3c528213d836row15_col2\" class=\"data row15 col2\" >3132626967.2336</td>\n",
       "                        <td id=\"T_34f1f055_fce0_11ea_a3d2_3c528213d836row15_col3\" class=\"data row15 col3\" >50303.1164</td>\n",
       "                        <td id=\"T_34f1f055_fce0_11ea_a3d2_3c528213d836row15_col4\" class=\"data row15 col4\" >-0.0567</td>\n",
       "                        <td id=\"T_34f1f055_fce0_11ea_a3d2_3c528213d836row15_col5\" class=\"data row15 col5\" >0.3853</td>\n",
       "                        <td id=\"T_34f1f055_fce0_11ea_a3d2_3c528213d836row15_col6\" class=\"data row15 col6\" >0.3494</td>\n",
       "                        <td id=\"T_34f1f055_fce0_11ea_a3d2_3c528213d836row15_col7\" class=\"data row15 col7\" >0.0031</td>\n",
       "            </tr>\n",
       "            <tr>\n",
       "                        <th id=\"T_34f1f055_fce0_11ea_a3d2_3c528213d836level0_row16\" class=\"row_heading level0 row16\" >16</th>\n",
       "                        <td id=\"T_34f1f055_fce0_11ea_a3d2_3c528213d836row16_col0\" class=\"data row16 col0\" >Passive Aggressive Regressor</td>\n",
       "                        <td id=\"T_34f1f055_fce0_11ea_a3d2_3c528213d836row16_col1\" class=\"data row16 col1\" >46532.2455</td>\n",
       "                        <td id=\"T_34f1f055_fce0_11ea_a3d2_3c528213d836row16_col2\" class=\"data row16 col2\" >5527293694.2722</td>\n",
       "                        <td id=\"T_34f1f055_fce0_11ea_a3d2_3c528213d836row16_col3\" class=\"data row16 col3\" >67966.6885</td>\n",
       "                        <td id=\"T_34f1f055_fce0_11ea_a3d2_3c528213d836row16_col4\" class=\"data row16 col4\" >-0.0808</td>\n",
       "                        <td id=\"T_34f1f055_fce0_11ea_a3d2_3c528213d836row16_col5\" class=\"data row16 col5\" >0.4866</td>\n",
       "                        <td id=\"T_34f1f055_fce0_11ea_a3d2_3c528213d836row16_col6\" class=\"data row16 col6\" >0.3131</td>\n",
       "                        <td id=\"T_34f1f055_fce0_11ea_a3d2_3c528213d836row16_col7\" class=\"data row16 col7\" >0.0116</td>\n",
       "            </tr>\n",
       "            <tr>\n",
       "                        <th id=\"T_34f1f055_fce0_11ea_a3d2_3c528213d836level0_row17\" class=\"row_heading level0 row17\" >17</th>\n",
       "                        <td id=\"T_34f1f055_fce0_11ea_a3d2_3c528213d836row17_col0\" class=\"data row17 col0\" >Support Vector Machine</td>\n",
       "                        <td id=\"T_34f1f055_fce0_11ea_a3d2_3c528213d836row17_col1\" class=\"data row17 col1\" >53994.5347</td>\n",
       "                        <td id=\"T_34f1f055_fce0_11ea_a3d2_3c528213d836row17_col2\" class=\"data row17 col2\" >5864698168.7939</td>\n",
       "                        <td id=\"T_34f1f055_fce0_11ea_a3d2_3c528213d836row17_col3\" class=\"data row17 col3\" >70794.2223</td>\n",
       "                        <td id=\"T_34f1f055_fce0_11ea_a3d2_3c528213d836row17_col4\" class=\"data row17 col4\" >-0.1538</td>\n",
       "                        <td id=\"T_34f1f055_fce0_11ea_a3d2_3c528213d836row17_col5\" class=\"data row17 col5\" >0.5781</td>\n",
       "                        <td id=\"T_34f1f055_fce0_11ea_a3d2_3c528213d836row17_col6\" class=\"data row17 col6\" >0.5451</td>\n",
       "                        <td id=\"T_34f1f055_fce0_11ea_a3d2_3c528213d836row17_col7\" class=\"data row17 col7\" >0.0062</td>\n",
       "            </tr>\n",
       "            <tr>\n",
       "                        <th id=\"T_34f1f055_fce0_11ea_a3d2_3c528213d836level0_row18\" class=\"row_heading level0 row18\" >18</th>\n",
       "                        <td id=\"T_34f1f055_fce0_11ea_a3d2_3c528213d836row18_col0\" class=\"data row18 col0\" >Bayesian Ridge</td>\n",
       "                        <td id=\"T_34f1f055_fce0_11ea_a3d2_3c528213d836row18_col1\" class=\"data row18 col1\" >55199.3106</td>\n",
       "                        <td id=\"T_34f1f055_fce0_11ea_a3d2_3c528213d836row18_col2\" class=\"data row18 col2\" >5613319379.3464</td>\n",
       "                        <td id=\"T_34f1f055_fce0_11ea_a3d2_3c528213d836row18_col3\" class=\"data row18 col3\" >69890.1957</td>\n",
       "                        <td id=\"T_34f1f055_fce0_11ea_a3d2_3c528213d836row18_col4\" class=\"data row18 col4\" >-0.1657</td>\n",
       "                        <td id=\"T_34f1f055_fce0_11ea_a3d2_3c528213d836row18_col5\" class=\"data row18 col5\" >0.5996</td>\n",
       "                        <td id=\"T_34f1f055_fce0_11ea_a3d2_3c528213d836row18_col6\" class=\"data row18 col6\" >0.6424</td>\n",
       "                        <td id=\"T_34f1f055_fce0_11ea_a3d2_3c528213d836row18_col7\" class=\"data row18 col7\" >0.0069</td>\n",
       "            </tr>\n",
       "            <tr>\n",
       "                        <th id=\"T_34f1f055_fce0_11ea_a3d2_3c528213d836level0_row19\" class=\"row_heading level0 row19\" >19</th>\n",
       "                        <td id=\"T_34f1f055_fce0_11ea_a3d2_3c528213d836row19_col0\" class=\"data row19 col0\" >K Neighbors Regressor</td>\n",
       "                        <td id=\"T_34f1f055_fce0_11ea_a3d2_3c528213d836row19_col1\" class=\"data row19 col1\" >41543.4890</td>\n",
       "                        <td id=\"T_34f1f055_fce0_11ea_a3d2_3c528213d836row19_col2\" class=\"data row19 col2\" >3839643993.4508</td>\n",
       "                        <td id=\"T_34f1f055_fce0_11ea_a3d2_3c528213d836row19_col3\" class=\"data row19 col3\" >56916.9658</td>\n",
       "                        <td id=\"T_34f1f055_fce0_11ea_a3d2_3c528213d836row19_col4\" class=\"data row19 col4\" >-0.1670</td>\n",
       "                        <td id=\"T_34f1f055_fce0_11ea_a3d2_3c528213d836row19_col5\" class=\"data row19 col5\" >0.4273</td>\n",
       "                        <td id=\"T_34f1f055_fce0_11ea_a3d2_3c528213d836row19_col6\" class=\"data row19 col6\" >0.3905</td>\n",
       "                        <td id=\"T_34f1f055_fce0_11ea_a3d2_3c528213d836row19_col7\" class=\"data row19 col7\" >0.0047</td>\n",
       "            </tr>\n",
       "            <tr>\n",
       "                        <th id=\"T_34f1f055_fce0_11ea_a3d2_3c528213d836level0_row20\" class=\"row_heading level0 row20\" >20</th>\n",
       "                        <td id=\"T_34f1f055_fce0_11ea_a3d2_3c528213d836row20_col0\" class=\"data row20 col0\" >Light Gradient Boosting Machine</td>\n",
       "                        <td id=\"T_34f1f055_fce0_11ea_a3d2_3c528213d836row20_col1\" class=\"data row20 col1\" >42654.6880</td>\n",
       "                        <td id=\"T_34f1f055_fce0_11ea_a3d2_3c528213d836row20_col2\" class=\"data row20 col2\" >4078318142.5164</td>\n",
       "                        <td id=\"T_34f1f055_fce0_11ea_a3d2_3c528213d836row20_col3\" class=\"data row20 col3\" >57905.7787</td>\n",
       "                        <td id=\"T_34f1f055_fce0_11ea_a3d2_3c528213d836row20_col4\" class=\"data row20 col4\" >-0.1886</td>\n",
       "                        <td id=\"T_34f1f055_fce0_11ea_a3d2_3c528213d836row20_col5\" class=\"data row20 col5\" >0.4003</td>\n",
       "                        <td id=\"T_34f1f055_fce0_11ea_a3d2_3c528213d836row20_col6\" class=\"data row20 col6\" >0.3800</td>\n",
       "                        <td id=\"T_34f1f055_fce0_11ea_a3d2_3c528213d836row20_col7\" class=\"data row20 col7\" >0.0272</td>\n",
       "            </tr>\n",
       "            <tr>\n",
       "                        <th id=\"T_34f1f055_fce0_11ea_a3d2_3c528213d836level0_row21\" class=\"row_heading level0 row21\" >21</th>\n",
       "                        <td id=\"T_34f1f055_fce0_11ea_a3d2_3c528213d836row21_col0\" class=\"data row21 col0\" >TheilSen Regressor</td>\n",
       "                        <td id=\"T_34f1f055_fce0_11ea_a3d2_3c528213d836row21_col1\" class=\"data row21 col1\" >46391.7065</td>\n",
       "                        <td id=\"T_34f1f055_fce0_11ea_a3d2_3c528213d836row21_col2\" class=\"data row21 col2\" >5370217310.1379</td>\n",
       "                        <td id=\"T_34f1f055_fce0_11ea_a3d2_3c528213d836row21_col3\" class=\"data row21 col3\" >65878.8083</td>\n",
       "                        <td id=\"T_34f1f055_fce0_11ea_a3d2_3c528213d836row21_col4\" class=\"data row21 col4\" >-1.4292</td>\n",
       "                        <td id=\"T_34f1f055_fce0_11ea_a3d2_3c528213d836row21_col5\" class=\"data row21 col5\" >0.4317</td>\n",
       "                        <td id=\"T_34f1f055_fce0_11ea_a3d2_3c528213d836row21_col6\" class=\"data row21 col6\" >0.4083</td>\n",
       "                        <td id=\"T_34f1f055_fce0_11ea_a3d2_3c528213d836row21_col7\" class=\"data row21 col7\" >0.5651</td>\n",
       "            </tr>\n",
       "    </tbody></table>"
      ],
      "text/plain": [
       "<pandas.io.formats.style.Styler at 0x213f17f3ac0>"
      ]
     },
     "metadata": {},
     "output_type": "display_data"
    },
    {
     "data": {
      "text/plain": [
       "RandomForestRegressor(bootstrap=True, ccp_alpha=0.0, criterion='mse',\n",
       "                      max_depth=None, max_features='auto', max_leaf_nodes=None,\n",
       "                      max_samples=None, min_impurity_decrease=0.0,\n",
       "                      min_impurity_split=None, min_samples_leaf=1,\n",
       "                      min_samples_split=2, min_weight_fraction_leaf=0.0,\n",
       "                      n_estimators=100, n_jobs=-1, oob_score=False,\n",
       "                      random_state=0, verbose=0, warm_start=False)"
      ]
     },
     "execution_count": 38,
     "metadata": {},
     "output_type": "execute_result"
    }
   ],
   "source": [
    "compare_models()"
   ]
  },
  {
   "cell_type": "markdown",
   "metadata": {},
   "source": [
    "### Simple Regression Model"
   ]
  },
  {
   "cell_type": "code",
   "execution_count": 39,
   "metadata": {},
   "outputs": [],
   "source": [
    "lr = LinearRegression()"
   ]
  },
  {
   "cell_type": "code",
   "execution_count": 40,
   "metadata": {},
   "outputs": [
    {
     "data": {
      "text/plain": [
       "LinearRegression(copy_X=True, fit_intercept=True, n_jobs=None, normalize=False)"
      ]
     },
     "execution_count": 40,
     "metadata": {},
     "output_type": "execute_result"
    }
   ],
   "source": [
    "lr.fit(X_train_scaled, y_train)"
   ]
  },
  {
   "cell_type": "code",
   "execution_count": 41,
   "metadata": {},
   "outputs": [],
   "source": [
    "lr_pred = lr.predict(X_test_scaled)"
   ]
  },
  {
   "cell_type": "code",
   "execution_count": 42,
   "metadata": {},
   "outputs": [
    {
     "data": {
      "text/plain": [
       "array([145019.66871768,  70166.40490483, 127494.26832432,  38474.65966601,\n",
       "        73716.71187725,  49173.18928733, 146180.56661006, 155001.58108455,\n",
       "       138113.88238077, 136931.33224313,  67170.98898244, 146612.28747075,\n",
       "        54513.95717847,  64019.18015509, 158538.92082806, 143956.72181563,\n",
       "       136841.75957281,  54146.26294868, 289980.84667239, 139453.3436494 ])"
      ]
     },
     "execution_count": 42,
     "metadata": {},
     "output_type": "execute_result"
    }
   ],
   "source": [
    "lr_pred"
   ]
  },
  {
   "cell_type": "code",
   "execution_count": 44,
   "metadata": {},
   "outputs": [
    {
     "data": {
      "text/plain": [
       "array([189774.52,  37716.64, 196860.56,  54242.24,  47671.  ,  60223.8 ,\n",
       "        79959.36, 210848.04, 173096.04, 132011.36,  51100.92,  99658.52,\n",
       "        66168.44, 134576.52, 141362.52,  91406.12, 206827.92,  72565.48,\n",
       "       255366.8 , 128463.4 ])"
      ]
     },
     "execution_count": 44,
     "metadata": {},
     "output_type": "execute_result"
    }
   ],
   "source": [
    "y_test"
   ]
  },
  {
   "cell_type": "code",
   "execution_count": 45,
   "metadata": {},
   "outputs": [
    {
     "data": {
      "text/plain": [
       "1742935754.6537423"
      ]
     },
     "execution_count": 45,
     "metadata": {},
     "output_type": "execute_result"
    }
   ],
   "source": [
    "mse = mean_squared_error(y_test,lr_pred)\n",
    "mse"
   ]
  },
  {
   "cell_type": "code",
   "execution_count": 46,
   "metadata": {},
   "outputs": [
    {
     "data": {
      "text/plain": [
       "41748.48206406722"
      ]
     },
     "execution_count": 46,
     "metadata": {},
     "output_type": "execute_result"
    }
   ],
   "source": [
    "rmse = np.sqrt(mse)\n",
    "rmse"
   ]
  },
  {
   "cell_type": "code",
   "execution_count": 47,
   "metadata": {},
   "outputs": [
    {
     "data": {
      "text/plain": [
       "0.5706038490094812"
      ]
     },
     "execution_count": 47,
     "metadata": {},
     "output_type": "execute_result"
    }
   ],
   "source": [
    "r2score = r2_score(y_test,lr_pred)\n",
    "r2score"
   ]
  },
  {
   "cell_type": "code",
   "execution_count": 48,
   "metadata": {},
   "outputs": [
    {
     "data": {
      "image/png": "[encoded data removed]",
      "text/plain": [
       "<Figure size 720x576 with 1 Axes>"
      ]
     },
     "metadata": {},
     "output_type": "display_data"
    }
   ],
   "source": [
    "fig, ax = plt.subplots(figsize=(10,8))\n",
    "sns.regplot(x=y_test, y=lr_pred, ax=ax)\n",
    "plt.title(\"Plot to compare actual vs predicted\")\n",
    "plt.ylabel(\"Predicted\")\n",
    "plt.xlabel(\"Actual\")\n",
    "plt.show()"
   ]
  },
  {
   "cell_type": "markdown",
   "metadata": {},
   "source": [
    "### Using XGBoost (Scikit-Learn)"
   ]
  },
  {
   "cell_type": "markdown",
   "metadata": {},
   "source": [
    "### Using RandomSearchCV"
   ]
  },
  {
   "cell_type": "code",
   "execution_count": 49,
   "metadata": {},
   "outputs": [],
   "source": [
    "model = XGBRegressor(random_state=0, n_estimators=100, objective='reg:squarederror')"
   ]
  },
  {
   "cell_type": "code",
   "execution_count": 50,
   "metadata": {},
   "outputs": [],
   "source": [
    "parameters = {'max_depth': np.arange(3,10,1),\n",
    "              'learning rate': np.arange(0.05,0.3,0.05),\n",
    "              'n_estimators':np.arange(100,1000,100),\n",
    "              'min_child_weight': np.arange(1,4,1),\n",
    "              'gamma':np.arange(0,10,2),\n",
    "              'subsample':np.arange(0.5,0.9,0.1),\n",
    "              'colsample_bytree':np.arange(0.5,0.9,0.1),\n",
    "              'reg_alpha':np.arange(0,1,0.1),\n",
    "              'reg_lambda':np.arange(0,1,0.1)\n",
    "             }"
   ]
  },
  {
   "cell_type": "code",
   "execution_count": 51,
   "metadata": {},
   "outputs": [],
   "source": [
    "randm = RandomizedSearchCV(estimator=model, param_distributions = parameters, cv = 5, n_iter = 50, \n",
    "                           n_jobs=-1, scoring='neg_mean_squared_error',random_state=0)"
   ]
  },
  {
   "cell_type": "code",
   "execution_count": 52,
   "metadata": {},
   "outputs": [
    {
     "data": {
      "text/plain": [
       "RandomizedSearchCV(cv=5, error_score=nan,\n",
       "                   estimator=XGBRegressor(base_score=None, booster=None,\n",
       "                                          colsample_bylevel=None,\n",
       "                                          colsample_bynode=None,\n",
       "                                          colsample_bytree=None, gamma=None,\n",
       "                                          gpu_id=None, importance_type='gain',\n",
       "                                          interaction_constraints=None,\n",
       "                                          learning_rate=None,\n",
       "                                          max_delta_step=None, max_depth=None,\n",
       "                                          min_child_weight=None, missing=nan,\n",
       "                                          monotone_constraints=None,\n",
       "                                          n_...\n",
       "                                        'min_child_weight': array([1, 2, 3]),\n",
       "                                        'n_estimators': array([100, 200, 300, 400, 500, 600, 700, 800, 900]),\n",
       "                                        'reg_alpha': array([0. , 0.1, 0.2, 0.3, 0.4, 0.5, 0.6, 0.7, 0.8, 0.9]),\n",
       "                                        'reg_lambda': array([0. , 0.1, 0.2, 0.3, 0.4, 0.5, 0.6, 0.7, 0.8, 0.9]),\n",
       "                                        'subsample': array([0.5, 0.6, 0.7, 0.8])},\n",
       "                   pre_dispatch='2*n_jobs', random_state=None, refit=True,\n",
       "                   return_train_score=False, scoring='neg_mean_squared_error',\n",
       "                   verbose=0)"
      ]
     },
     "execution_count": 52,
     "metadata": {},
     "output_type": "execute_result"
    }
   ],
   "source": [
    "randm.fit(X_train_scaled, y_train)"
   ]
  },
  {
   "cell_type": "code",
   "execution_count": 53,
   "metadata": {},
   "outputs": [
    {
     "data": {
      "text/plain": [
       "XGBRegressor(base_score=0.5, booster='gbtree', colsample_bylevel=1,\n",
       "             colsample_bynode=1, colsample_bytree=0.5, gamma=2, gpu_id=-1,\n",
       "             importance_type='gain', interaction_constraints='',\n",
       "             learning rate=0.15000000000000002, learning_rate=0.300000012,\n",
       "             max_delta_step=0, max_depth=3, min_child_weight=1, missing=nan,\n",
       "             monotone_constraints='()', n_estimators=800, n_jobs=0,\n",
       "             num_parallel_tree=1, objective='reg:squarederror', random_state=0,\n",
       "             reg_alpha=0.4, reg_lambda=0.1, scale_pos_weight=1, subsample=0.6,\n",
       "             tree_method='exact', validate_parameters=1, verbosity=None)"
      ]
     },
     "execution_count": 53,
     "metadata": {},
     "output_type": "execute_result"
    }
   ],
   "source": [
    "randm.best_estimator_"
   ]
  },
  {
   "cell_type": "code",
   "execution_count": 54,
   "metadata": {},
   "outputs": [
    {
     "data": {
      "text/plain": [
       "-2594910809.860133"
      ]
     },
     "execution_count": 54,
     "metadata": {},
     "output_type": "execute_result"
    }
   ],
   "source": [
    "randm.best_score_"
   ]
  },
  {
   "cell_type": "code",
   "execution_count": 55,
   "metadata": {},
   "outputs": [
    {
     "data": {
      "text/plain": [
       "{'subsample': 0.6,\n",
       " 'reg_lambda': 0.1,\n",
       " 'reg_alpha': 0.4,\n",
       " 'n_estimators': 800,\n",
       " 'min_child_weight': 1,\n",
       " 'max_depth': 3,\n",
       " 'learning rate': 0.15000000000000002,\n",
       " 'gamma': 2,\n",
       " 'colsample_bytree': 0.5}"
      ]
     },
     "execution_count": 55,
     "metadata": {},
     "output_type": "execute_result"
    }
   ],
   "source": [
    "randm.best_params_"
   ]
  },
  {
   "cell_type": "markdown",
   "metadata": {},
   "source": [
    "### Final Model"
   ]
  },
  {
   "cell_type": "code",
   "execution_count": 56,
   "metadata": {},
   "outputs": [],
   "source": [
    "xgbmodel = XGBRegressor(random_state=0, n_estimators=200, objective='reg:squarederror', subsample=0.7,\n",
    "                        reg_lambda=0.4,reg_alpha=0.2,min_child_weight=1,max_depth=4,eta=0.25, gamma=4,\n",
    "                        colsample_bytree=0.8)"
   ]
  },
  {
   "cell_type": "code",
   "execution_count": 57,
   "metadata": {},
   "outputs": [
    {
     "name": "stdout",
     "output_type": "stream",
     "text": [
      "[0]\tvalidation_0-rmse:108464.35156\n",
      "Will train until validation_0-rmse hasn't improved in 10 rounds.\n",
      "[1]\tvalidation_0-rmse:87001.39062\n",
      "[2]\tvalidation_0-rmse:71516.21094\n",
      "[3]\tvalidation_0-rmse:62403.91797\n",
      "[4]\tvalidation_0-rmse:52160.75391\n",
      "[5]\tvalidation_0-rmse:45983.89453\n",
      "[6]\tvalidation_0-rmse:42712.09766\n",
      "[7]\tvalidation_0-rmse:40499.71484\n",
      "[8]\tvalidation_0-rmse:39906.14453\n",
      "[9]\tvalidation_0-rmse:39556.49609\n",
      "[10]\tvalidation_0-rmse:39097.35156\n",
      "[11]\tvalidation_0-rmse:40342.96875\n",
      "[12]\tvalidation_0-rmse:40113.82031\n",
      "[13]\tvalidation_0-rmse:39186.51562\n",
      "[14]\tvalidation_0-rmse:40743.67578\n",
      "[15]\tvalidation_0-rmse:41439.43359\n",
      "[16]\tvalidation_0-rmse:41451.07812\n",
      "[17]\tvalidation_0-rmse:41661.97656\n",
      "[18]\tvalidation_0-rmse:42399.53516\n",
      "[19]\tvalidation_0-rmse:42048.81250\n",
      "[20]\tvalidation_0-rmse:41679.58594\n",
      "Stopping. Best iteration:\n",
      "[10]\tvalidation_0-rmse:39097.35156\n",
      "\n"
     ]
    },
    {
     "data": {
      "text/plain": [
       "XGBRegressor(base_score=0.5, booster='gbtree', colsample_bylevel=1,\n",
       "             colsample_bynode=1, colsample_bytree=0.8, eta=0.25, gamma=4,\n",
       "             gpu_id=-1, importance_type='gain', interaction_constraints='',\n",
       "             learning_rate=0.25, max_delta_step=0, max_depth=4,\n",
       "             min_child_weight=1, missing=nan, monotone_constraints='()',\n",
       "             n_estimators=200, n_jobs=0, num_parallel_tree=1,\n",
       "             objective='reg:squarederror', random_state=0, reg_alpha=0.2,\n",
       "             reg_lambda=0.4, scale_pos_weight=1, subsample=0.7,\n",
       "             tree_method='exact', validate_parameters=1, verbosity=None)"
      ]
     },
     "execution_count": 57,
     "metadata": {},
     "output_type": "execute_result"
    }
   ],
   "source": [
    "xgbmodel.fit(X_train_scaled,y_train,eval_set=[(X_test_scaled,y_test)],eval_metric='rmse',early_stopping_rounds=10)"
   ]
  },
  {
   "cell_type": "code",
   "execution_count": 58,
   "metadata": {},
   "outputs": [],
   "source": [
    "y_pred = xgbmodel.predict(X_test_scaled)"
   ]
  },
  {
   "cell_type": "code",
   "execution_count": 59,
   "metadata": {},
   "outputs": [
    {
     "data": {
      "text/plain": [
       "array([123855.125,  53267.34 ,  98036.33 ,  44264.766,  53234.176,\n",
       "        60758.426, 116717.98 , 142476.62 , 127761.93 , 158373.56 ,\n",
       "        55660.65 , 100023.43 ,  50072.734,  78182.79 , 143733.55 ,\n",
       "       138132.31 , 169413.12 ,  67922.88 , 247472.95 , 115087.48 ],\n",
       "      dtype=float32)"
      ]
     },
     "execution_count": 59,
     "metadata": {},
     "output_type": "execute_result"
    }
   ],
   "source": [
    "y_pred"
   ]
  },
  {
   "cell_type": "markdown",
   "metadata": {},
   "source": [
    "### Model Evaluation"
   ]
  },
  {
   "cell_type": "code",
   "execution_count": 60,
   "metadata": {},
   "outputs": [
    {
     "data": {
      "text/plain": [
       "1528602724.8495464"
      ]
     },
     "execution_count": 60,
     "metadata": {},
     "output_type": "execute_result"
    }
   ],
   "source": [
    "mse = mean_squared_error(y_test,y_pred)\n",
    "mse"
   ]
  },
  {
   "cell_type": "code",
   "execution_count": 61,
   "metadata": {},
   "outputs": [
    {
     "data": {
      "text/plain": [
       "39097.34933278146"
      ]
     },
     "execution_count": 61,
     "metadata": {},
     "output_type": "execute_result"
    }
   ],
   "source": [
    "rmse = np.sqrt(mse)\n",
    "rmse"
   ]
  },
  {
   "cell_type": "code",
   "execution_count": 62,
   "metadata": {},
   "outputs": [
    {
     "data": {
      "text/plain": [
       "0.6234077333651278"
      ]
     },
     "execution_count": 62,
     "metadata": {},
     "output_type": "execute_result"
    }
   ],
   "source": [
    "r2score = r2_score(y_test,y_pred)\n",
    "r2score"
   ]
  },
  {
   "cell_type": "code",
   "execution_count": 63,
   "metadata": {},
   "outputs": [
    {
     "data": {
      "image/png": "[encoded data removed]",
      "text/plain": [
       "<Figure size 720x576 with 1 Axes>"
      ]
     },
     "metadata": {},
     "output_type": "display_data"
    }
   ],
   "source": [
    "fig, ax = plt.subplots(figsize=(10,8))\n",
    "sns.regplot(x=y_test, y=y_pred, ax=ax)\n",
    "plt.title(\"Plot to compare actual vs predicted\")\n",
    "plt.ylabel(\"Predicted\")\n",
    "plt.xlabel(\"Actual\")\n",
    "plt.show()"
   ]
  },
  {
   "cell_type": "markdown",
   "metadata": {},
   "source": [
    "### Available importance_types = [‘weight’, ‘gain’, ‘cover’, ‘total_gain’, ‘total_cover’]"
   ]
  },
  {
   "cell_type": "code",
   "execution_count": 64,
   "metadata": {},
   "outputs": [
    {
     "data": {
      "text/plain": [
       "Index(['age', 'balance', 'months', 'weekspayment', 'gender_M'], dtype='object')"
      ]
     },
     "execution_count": 64,
     "metadata": {},
     "output_type": "execute_result"
    }
   ],
   "source": [
    "X.columns"
   ]
  },
  {
   "cell_type": "code",
   "execution_count": 65,
   "metadata": {},
   "outputs": [],
   "source": [
    "xgbmodel.get_booster().feature_names = ['age', 'balance', 'months', 'weekspayment', 'gender_M_0']"
   ]
  },
  {
   "cell_type": "code",
   "execution_count": 66,
   "metadata": {},
   "outputs": [
    {
     "data": {
      "image/png": "[encoded data removed]",
      "text/plain": [
       "<Figure size 1440x720 with 1 Axes>"
      ]
     },
     "metadata": {},
     "output_type": "display_data"
    }
   ],
   "source": [
    "fig, ax = plt.subplots(figsize=(20,10))\n",
    "xgb.plot_importance(xgbmodel.get_booster(),ax=ax)\n",
    "plt.show()"
   ]
  },
  {
   "cell_type": "markdown",
   "metadata": {},
   "source": [
    "### Cross-Validation"
   ]
  },
  {
   "cell_type": "code",
   "execution_count": 67,
   "metadata": {},
   "outputs": [
    {
     "name": "stderr",
     "output_type": "stream",
     "text": [
      "[Parallel(n_jobs=1)]: Using backend SequentialBackend with 1 concurrent workers.\n",
      "[Parallel(n_jobs=1)]: Done   5 out of   5 | elapsed:    0.3s finished\n"
     ]
    }
   ],
   "source": [
    "cv = cross_val_score(xgbmodel,X,y,cv=5,verbose=1,scoring='r2')"
   ]
  },
  {
   "cell_type": "code",
   "execution_count": 68,
   "metadata": {},
   "outputs": [
    {
     "data": {
      "text/plain": [
       "0.4714286293167129"
      ]
     },
     "execution_count": 68,
     "metadata": {},
     "output_type": "execute_result"
    }
   ],
   "source": [
    "cv.mean()"
   ]
  },
  {
   "cell_type": "markdown",
   "metadata": {},
   "source": [
    "### Save the Model"
   ]
  },
  {
   "cell_type": "code",
   "execution_count": 69,
   "metadata": {},
   "outputs": [],
   "source": [
    "filename = 'anzmodel.sav'\n",
    "dump(xgbmodel,open(filename,'wb'))"
   ]
  },
  {
   "cell_type": "markdown",
   "metadata": {},
   "source": [
    "### Conclusion: Tree based model is much better in accuracy than linear regression."
   ]
  },
  {
   "cell_type": "code",
   "execution_count": null,
   "metadata": {},
   "outputs": [],
   "source": []
  }
 ],
 "metadata": {
  "kernelspec": {
   "display_name": "Python 3",
   "language": "python",
   "name": "python3"
  },
  "language_info": {
   "codemirror_mode": {
    "name": "ipython",
    "version": 3
   },
   "file_extension": ".py",
   "mimetype": "text/x-python",
   "name": "python",
   "nbconvert_exporter": "python",
   "pygments_lexer": "ipython3",
   "version": "3.8.3"
  }
 },
 "nbformat": 4,
 "nbformat_minor": 4
}
